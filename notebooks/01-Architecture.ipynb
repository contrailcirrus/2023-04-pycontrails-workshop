{
 "cells": [
  {
   "cell_type": "markdown",
   "id": "5dffc986-0419-4f71-addb-f562345e1d51",
   "metadata": {},
   "source": [
    "# pycontrails Architecture\n",
    "\n",
    "- Authors: Marc Shapiro, Zeb Engberg\n",
    "- Date: 2023-04-14\n",
    "- `pycontrails`: v0.39.6\n",
    "\n",
    "Review the design philosophy and package architecture of `pycontrails`.\n",
    "\n",
    "### References\n",
    "\n",
    "\n",
    "[![Open In Colab](https://colab.research.google.com/assets/colab-badge.svg)](https://colab.research.google.com/github/contrailcirrus/2023-04-pycontrails-workshop/blob/main/notebooks/01-pycontrails-Architecture.ipynb)"
   ]
  },
  {
   "cell_type": "code",
   "execution_count": null,
   "id": "a6137117-3c81-4a2d-a1f5-4aaeaba1c296",
   "metadata": {},
   "outputs": [],
   "source": [
    "!pip install pycontrails"
   ]
  },
  {
   "cell_type": "markdown",
   "id": "c91425f7-14e7-4fd0-adfd-e82b9e5eb419",
   "metadata": {},
   "source": [
    "## Architecture"
   ]
  },
  {
   "cell_type": "code",
   "execution_count": null,
   "id": "c3dfad1d-bb60-404a-9962-436c7375fd14",
   "metadata": {},
   "outputs": [],
   "source": []
  }
 ],
 "metadata": {
  "kernelspec": {
   "display_name": "Python 3 (ipykernel)",
   "language": "python",
   "name": "python3"
  },
  "language_info": {
   "codemirror_mode": {
    "name": "ipython",
    "version": 3
   },
   "file_extension": ".py",
   "mimetype": "text/x-python",
   "name": "python",
   "nbconvert_exporter": "python",
   "pygments_lexer": "ipython3",
   "version": "3.10.8"
  }
 },
 "nbformat": 4,
 "nbformat_minor": 5
}
