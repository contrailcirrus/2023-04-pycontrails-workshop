{
 "cells": [
  {
   "cell_type": "markdown",
   "id": "34a7a1ad-2cc0-4dc2-84c6-178ccc676de2",
   "metadata": {},
   "source": [
    "# Satellite Imagery\n",
    "\n",
    "- Authors: Dinesh Sanekommu, Tharun Sankar\n",
    "- Date: 2023-04-14\n",
    "\n",
    "Access and interact with satellite imagery.\n",
    "\n",
    "[![Open In Colab](https://colab.research.google.com/assets/colab-badge.svg)](https://colab.research.google.com/github/contrailcirrus/2023-04-pycontrails-workshop/blob/main/notebooks/XX-Satellite-Imagery.ipynb)"
   ]
  },
  {
   "cell_type": "code",
   "execution_count": null,
   "id": "95138092-eebf-46fe-9898-e404c4e0e969",
   "metadata": {},
   "outputs": [],
   "source": []
  }
 ],
 "metadata": {
  "kernelspec": {
   "display_name": "Python 3 (ipykernel)",
   "language": "python",
   "name": "python3"
  },
  "language_info": {
   "codemirror_mode": {
    "name": "ipython",
    "version": 3
   },
   "file_extension": ".py",
   "mimetype": "text/x-python",
   "name": "python",
   "nbconvert_exporter": "python",
   "pygments_lexer": "ipython3",
   "version": "3.10.8"
  }
 },
 "nbformat": 4,
 "nbformat_minor": 5
}
