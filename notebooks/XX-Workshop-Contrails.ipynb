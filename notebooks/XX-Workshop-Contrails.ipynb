{
 "cells": [
  {
   "cell_type": "markdown",
   "id": "0154f871-5fca-4833-94f3-6ef1ec76b885",
   "metadata": {},
   "source": [
    "# Hands on Workshop: Persistent Contrail Regions\n",
    "\n",
    "- Authors: Marc Shapiro, Zeb Engberg\n",
    "- Date: 2023-04-14\n",
    "- `pycontrails`: v0.39.6\n",
    "\n",
    "End-to-end analysis using `pycontrails` and sample data.\n",
    "\n",
    "[![Open In Colab](https://colab.research.google.com/assets/colab-badge.svg)](https://colab.research.google.com/github/contrailcirrus/2023-04-pycontrails-workshop/blob/main/notebooks/04-Full-Analysis.ipynb)"
   ]
  },
  {
   "cell_type": "markdown",
   "id": "3db09dd9-4a03-4df5-bcbf-4c36ac23ceca",
   "metadata": {},
   "source": []
  },
  {
   "cell_type": "markdown",
   "id": "9f923db7-a6e7-46f6-b7de-00092bd2a3a9",
   "metadata": {},
   "source": [
    "## Goals\n",
    "\n",
    "### Load Data\n",
    "\n",
    "1. Load sample ADS-B data from OpenSky\n",
    "2. Load meteorology data from ECMWF using Copernicus\n",
    "3. Load meteorology data from GFS\n",
    "\n",
    "### Caculate aircraft performance\n",
    "\n",
    "1. Clean up ADS-B trajectories\n",
    "2. Calculate aircraft performance using OpenAP\n",
    "3. Calculate emissions using `pycontrails`\n",
    "\n",
    "### Compare ISSR and SAC regions"
   ]
  },
  {
   "cell_type": "code",
   "execution_count": null,
   "id": "b39b2e4c-7761-4b92-8138-8ca7e4a68fd2",
   "metadata": {},
   "outputs": [],
   "source": []
  }
 ],
 "metadata": {
  "kernelspec": {
   "display_name": "Python 3 (ipykernel)",
   "language": "python",
   "name": "python3"
  },
  "language_info": {
   "codemirror_mode": {
    "name": "ipython",
    "version": 3
   },
   "file_extension": ".py",
   "mimetype": "text/x-python",
   "name": "python",
   "nbconvert_exporter": "python",
   "pygments_lexer": "ipython3",
   "version": "3.10.8"
  }
 },
 "nbformat": 4,
 "nbformat_minor": 5
}
