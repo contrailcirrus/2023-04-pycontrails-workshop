{
 "cells": [
  {
   "cell_type": "markdown",
   "metadata": {},
   "source": [
    "# Aircraft performance\n",
    "\n",
    "- Authors: Roger Teoh\n",
    "- Date: 2023-04-15\n",
    "- `pycontrails`: v0.40.1\n",
    "\n",
    "Demonstrate aircraft performance calculations using [OpenAP](https://openap.dev/)\n",
    "\n",
    "[![Open In Colab](https://colab.research.google.com/assets/colab-badge.svg)](https://colab.research.google.com/github/contrailcirrus/2023-04-pycontrails-workshop/blob/main/notebooks/03-Aircraft-Performance.ipynb)"
   ]
  },
  {
   "cell_type": "markdown",
   "metadata": {},
   "source": [
    "## Goals\n",
    "\n",
    "### Load Data\n",
    "\n",
    "1. Load multiple sample flights\n",
    "2. Sel flight data for `Cocip` input\n",
    "3. Load meteorology data from ECMWF for the flight domain\n",
    "\n",
    "### Run OpenAP\n",
    "\n",
    "1. Find aircraft and engine properties\n",
    "2. Calculate fuel flow and overall propulsion efficiency \n",
    "3. Compare estimates with (approximate) BADA outputs"
   ]
  },
  {
   "cell_type": "code",
   "execution_count": null,
   "metadata": {
    "id": "99-4hwX7uS7N"
   },
   "outputs": [],
   "source": [
    "!pip install \"pycontrails[vis]\"\n",
    "\n",
    "!pip install openap"
   ]
  },
  {
   "cell_type": "code",
   "execution_count": null,
   "metadata": {
    "id": "fW6ycqOvueIs"
   },
   "outputs": [],
   "source": [
    "# GCP Bucket with sample data\n",
    "GCP_BUCKET = \"gs://2023-04-pycontrails-workshop\"\n",
    "\n",
    "# make data/ directory\n",
    "!mkdir -p \"data/flight/sample\"\n",
    "\n",
    "# sync sample flight files\n",
    "!gsutil -m rsync -r \"{GCP_BUCKET}/data/flight/sample\" \"data/flight/sample\""
   ]
  },
  {
   "cell_type": "code",
   "execution_count": 1,
   "metadata": {
    "id": "YE-5Gj13uwzo"
   },
   "outputs": [],
   "source": [
    "import pandas as pd\n",
    "import numpy as np\n",
    "\n",
    "from pycontrails import Flight\n",
    "from pycontrails.physics import units"
   ]
  },
  {
   "cell_type": "code",
   "execution_count": 2,
   "metadata": {
    "id": "C6uFU2N3WsZm"
   },
   "outputs": [],
   "source": [
    "# Load all sample flights and metadata\n",
    "waypoints = pd.read_parquet(\"data/flight/sample/waypoints.pq\")\n",
    "metadata = pd.read_parquet(\"data/flight/sample/metadata.pq\")\n",
    "\n",
    "# Select one flight\n",
    "flight_id = \"200101-46388-SIA308\"\n",
    "flight = waypoints.loc[waypoints[\"flight_id\"] == flight_id]\n",
    "flight_attrs = metadata.loc[metadata[\"flight_id\"] == flight_id].iloc[0]"
   ]
  },
  {
   "cell_type": "code",
   "execution_count": 3,
   "metadata": {
    "id": "A_EraJhLWuVm"
   },
   "outputs": [],
   "source": [
    "# Cruise only (filter for waypoints > 30,000 feet and minimal change in altitude)\n",
    "d_altitude = np.diff(flight[\"altitude_ft\"].values, append=np.nan)\n",
    "flight = flight.loc[(flight[\"altitude_ft\"] > 30000) & (d_altitude <= 25)]\n",
    "\n",
    "# Assume ISA temperature\n",
    "flight[\"air_temperature\"] = units.m_to_T_isa(units.ft_to_m(flight[\"altitude_ft\"]))\n",
    "flight[\"specific_humidity\"] = 0.0"
   ]
  },
  {
   "cell_type": "code",
   "execution_count": 4,
   "metadata": {},
   "outputs": [
    {
     "data": {
      "text/plain": [
       "flight_id                          200101-46388-SIA308\n",
       "callsign                                        SIA308\n",
       "icao_address                                    76CD6D\n",
       "flight_number                                    SQ308\n",
       "tail_number                                     9V-SKM\n",
       "aircraft_type_icao                                A388\n",
       "aircraft_engine_type                               Jet\n",
       "origin_airport                                    WSSS\n",
       "origin_airport_name           Singapore Changi Airport\n",
       "origin_country                                      SG\n",
       "destination_airport                               EGLL\n",
       "destination_airport_name       London Heathrow Airport\n",
       "destination_country                                 GB\n",
       "time_first_waypoint         2020-01-01 01:19:01.753000\n",
       "time_last_waypoint          2020-01-01 14:50:15.788000\n",
       "duration_hours                                   13.52\n",
       "total_distance_km                             11221.98\n",
       "n_waypoints                                       1166\n",
       "aircraft_type_bada                            A380-841\n",
       "engine_name                               Trent 970-84\n",
       "engine_uid                                  01P18RR103\n",
       "n_engine                                             4\n",
       "wingspan                                          79.8\n",
       "total_fuel_burn                          171127.068125\n",
       "Name: 43, dtype: object"
      ]
     },
     "execution_count": 4,
     "metadata": {},
     "output_type": "execute_result"
    }
   ],
   "source": [
    "flight_attrs"
   ]
  },
  {
   "cell_type": "code",
   "execution_count": 5,
   "metadata": {
    "id": "4dhfP_5-WwOB"
   },
   "outputs": [
    {
     "data": {
      "text/html": [
       "<b>Flight</b> [14 keys x 1079 length, 3 attributes]<br/ ><br/><table><tr style=\"border-bottom:1px solid silver\"><th colspan=\"2\">Attributes</th></tr><tr><td>time</td><td>[2020-01-01 01:50:41, 2020-01-01 14:24:04]</td></tr><tr><td>longitude</td><td>[2.2674319358711132, 101.15529927978473]</td></tr><tr><td>latitude</td><td>[3.5662076785053105, 54.737657]</td></tr><tr><td>altitude</td><td>[9808.845000000001, 12199.62]</td></tr><tr><td>flight_id</td><td>200101-46388-SIA308</td></tr><tr><td>aircraft_type</td><td>A388</td></tr><tr><td>crs</td><td>EPSG:4326</td></tr></table><div>\n",
       "<style scoped>\n",
       "    .dataframe tbody tr th:only-of-type {\n",
       "        vertical-align: middle;\n",
       "    }\n",
       "\n",
       "    .dataframe tbody tr th {\n",
       "        vertical-align: top;\n",
       "    }\n",
       "\n",
       "    .dataframe thead th {\n",
       "        text-align: right;\n",
       "    }\n",
       "</style>\n",
       "<table border=\"1\" class=\"dataframe\">\n",
       "  <thead>\n",
       "    <tr style=\"text-align: right;\">\n",
       "      <th></th>\n",
       "      <th>flight_id</th>\n",
       "      <th>longitude</th>\n",
       "      <th>latitude</th>\n",
       "      <th>altitude_ft</th>\n",
       "      <th>time</th>\n",
       "      <th>time_unix</th>\n",
       "      <th>fuel_flow</th>\n",
       "      <th>engine_efficiency</th>\n",
       "      <th>thrust_setting</th>\n",
       "      <th>aircraft_mass</th>\n",
       "      <th>true_airspeed</th>\n",
       "      <th>nvpm_ei_n</th>\n",
       "      <th>air_temperature</th>\n",
       "      <th>specific_humidity</th>\n",
       "    </tr>\n",
       "  </thead>\n",
       "  <tbody>\n",
       "    <tr>\n",
       "      <th>0</th>\n",
       "      <td>200101-46388-SIA308</td>\n",
       "      <td>101.155299</td>\n",
       "      <td>3.566208</td>\n",
       "      <td>34000.000</td>\n",
       "      <td>2020-01-01 01:50:41</td>\n",
       "      <td>1577843441</td>\n",
       "      <td>3.986478</td>\n",
       "      <td>0.368002</td>\n",
       "      <td>0.789806</td>\n",
       "      <td>535413.841665</td>\n",
       "      <td>254.493574</td>\n",
       "      <td>4.133382e+14</td>\n",
       "      <td>220.789200</td>\n",
       "      <td>0.0</td>\n",
       "    </tr>\n",
       "    <tr>\n",
       "      <th>1</th>\n",
       "      <td>200101-46388-SIA308</td>\n",
       "      <td>101.114149</td>\n",
       "      <td>3.650864</td>\n",
       "      <td>34000.000</td>\n",
       "      <td>2020-01-01 01:51:21</td>\n",
       "      <td>1577843481</td>\n",
       "      <td>3.967888</td>\n",
       "      <td>0.367302</td>\n",
       "      <td>0.784798</td>\n",
       "      <td>535254.382545</td>\n",
       "      <td>253.359096</td>\n",
       "      <td>4.176370e+14</td>\n",
       "      <td>220.789200</td>\n",
       "      <td>0.0</td>\n",
       "    </tr>\n",
       "    <tr>\n",
       "      <th>2</th>\n",
       "      <td>200101-46388-SIA308</td>\n",
       "      <td>101.072991</td>\n",
       "      <td>3.735519</td>\n",
       "      <td>34000.000</td>\n",
       "      <td>2020-01-01 01:52:01</td>\n",
       "      <td>1577843521</td>\n",
       "      <td>4.235000</td>\n",
       "      <td>0.371100</td>\n",
       "      <td>0.836296</td>\n",
       "      <td>535095.667041</td>\n",
       "      <td>252.224952</td>\n",
       "      <td>3.340753e+14</td>\n",
       "      <td>220.789200</td>\n",
       "      <td>0.0</td>\n",
       "    </tr>\n",
       "    <tr>\n",
       "      <th>3</th>\n",
       "      <td>200101-46388-SIA308</td>\n",
       "      <td>101.031825</td>\n",
       "      <td>3.820172</td>\n",
       "      <td>34000.000</td>\n",
       "      <td>2020-01-01 01:52:41</td>\n",
       "      <td>1577843561</td>\n",
       "      <td>4.235000</td>\n",
       "      <td>0.371797</td>\n",
       "      <td>0.836483</td>\n",
       "      <td>534926.267041</td>\n",
       "      <td>252.658833</td>\n",
       "      <td>3.348717e+14</td>\n",
       "      <td>220.789200</td>\n",
       "      <td>0.0</td>\n",
       "    </tr>\n",
       "    <tr>\n",
       "      <th>4</th>\n",
       "      <td>200101-46388-SIA308</td>\n",
       "      <td>100.990651</td>\n",
       "      <td>3.904822</td>\n",
       "      <td>34000.000</td>\n",
       "      <td>2020-01-01 01:53:21</td>\n",
       "      <td>1577843601</td>\n",
       "      <td>4.235000</td>\n",
       "      <td>0.373642</td>\n",
       "      <td>0.836723</td>\n",
       "      <td>534756.867041</td>\n",
       "      <td>253.096260</td>\n",
       "      <td>3.356411e+14</td>\n",
       "      <td>220.789200</td>\n",
       "      <td>0.0</td>\n",
       "    </tr>\n",
       "    <tr>\n",
       "      <th>...</th>\n",
       "      <td>...</td>\n",
       "      <td>...</td>\n",
       "      <td>...</td>\n",
       "      <td>...</td>\n",
       "      <td>...</td>\n",
       "      <td>...</td>\n",
       "      <td>...</td>\n",
       "      <td>...</td>\n",
       "      <td>...</td>\n",
       "      <td>...</td>\n",
       "      <td>...</td>\n",
       "      <td>...</td>\n",
       "      <td>...</td>\n",
       "      <td>...</td>\n",
       "    </tr>\n",
       "    <tr>\n",
       "      <th>1074</th>\n",
       "      <td>200101-46388-SIA308</td>\n",
       "      <td>2.821537</td>\n",
       "      <td>51.863190</td>\n",
       "      <td>37393.750</td>\n",
       "      <td>2020-01-01 14:21:24</td>\n",
       "      <td>1577888484</td>\n",
       "      <td>0.484410</td>\n",
       "      <td>0.000000</td>\n",
       "      <td>0.075055</td>\n",
       "      <td>379389.507482</td>\n",
       "      <td>238.126662</td>\n",
       "      <td>1.817364e+15</td>\n",
       "      <td>216.650000</td>\n",
       "      <td>0.0</td>\n",
       "    </tr>\n",
       "    <tr>\n",
       "      <th>1075</th>\n",
       "      <td>200101-46388-SIA308</td>\n",
       "      <td>2.682898</td>\n",
       "      <td>51.851150</td>\n",
       "      <td>36090.625</td>\n",
       "      <td>2020-01-01 14:22:04</td>\n",
       "      <td>1577888524</td>\n",
       "      <td>0.428167</td>\n",
       "      <td>0.000000</td>\n",
       "      <td>0.063978</td>\n",
       "      <td>379370.131090</td>\n",
       "      <td>236.930050</td>\n",
       "      <td>1.637297e+15</td>\n",
       "      <td>216.650000</td>\n",
       "      <td>0.0</td>\n",
       "    </tr>\n",
       "    <tr>\n",
       "      <th>1076</th>\n",
       "      <td>200101-46388-SIA308</td>\n",
       "      <td>2.544334</td>\n",
       "      <td>51.838946</td>\n",
       "      <td>34787.500</td>\n",
       "      <td>2020-01-01 14:22:44</td>\n",
       "      <td>1577888564</td>\n",
       "      <td>0.427919</td>\n",
       "      <td>0.000000</td>\n",
       "      <td>0.062526</td>\n",
       "      <td>379353.004423</td>\n",
       "      <td>232.639705</td>\n",
       "      <td>1.575380e+15</td>\n",
       "      <td>219.229005</td>\n",
       "      <td>0.0</td>\n",
       "    </tr>\n",
       "    <tr>\n",
       "      <th>1077</th>\n",
       "      <td>200101-46388-SIA308</td>\n",
       "      <td>2.405845</td>\n",
       "      <td>51.826580</td>\n",
       "      <td>33484.375</td>\n",
       "      <td>2020-01-01 14:23:24</td>\n",
       "      <td>1577888604</td>\n",
       "      <td>0.426398</td>\n",
       "      <td>0.000000</td>\n",
       "      <td>0.060982</td>\n",
       "      <td>379335.887673</td>\n",
       "      <td>228.363767</td>\n",
       "      <td>1.511721e+15</td>\n",
       "      <td>221.810756</td>\n",
       "      <td>0.0</td>\n",
       "    </tr>\n",
       "    <tr>\n",
       "      <th>1078</th>\n",
       "      <td>200101-46388-SIA308</td>\n",
       "      <td>2.267432</td>\n",
       "      <td>51.814050</td>\n",
       "      <td>32181.250</td>\n",
       "      <td>2020-01-01 14:24:04</td>\n",
       "      <td>1577888644</td>\n",
       "      <td>0.422490</td>\n",
       "      <td>0.000000</td>\n",
       "      <td>0.059104</td>\n",
       "      <td>379318.831735</td>\n",
       "      <td>224.125015</td>\n",
       "      <td>1.445355e+15</td>\n",
       "      <td>224.392507</td>\n",
       "      <td>0.0</td>\n",
       "    </tr>\n",
       "  </tbody>\n",
       "</table>\n",
       "<p>1079 rows × 14 columns</p>\n",
       "</div>"
      ],
      "text/plain": [
       "Flight [14 keys x 1079 length, 3 attributes]\n",
       "\tKeys: flight_id, longitude, latitude, altitude_ft, time, ..., specific_humidity\n",
       "\tAttributes:\n",
       "\ttime                [2020-01-01 01:50:41, 2020-01-01 14:24:04]\n",
       "\tlongitude           [2.2674319358711132, 101.15529927978473]\n",
       "\tlatitude            [3.5662076785053105, 54.737657]\n",
       "\taltitude            [9808.845000000001, 12199.62]\n",
       "\tflight_id           200101-46388-SIA308\n",
       "\taircraft_type       A388\n",
       "\tcrs                 EPSG:4326"
      ]
     },
     "execution_count": 5,
     "metadata": {},
     "output_type": "execute_result"
    }
   ],
   "source": [
    "# Instantiate flight object\n",
    "aircraft_type = flight_attrs[\"aircraft_type_icao\"]\n",
    "engine_name = flight_attrs[\"engine_name\"]\n",
    "\n",
    "flight = Flight(flight, flight_id=flight_id, aircraft_type=aircraft_type)\n",
    "flight"
   ]
  },
  {
   "cell_type": "code",
   "execution_count": 6,
   "metadata": {
    "colab": {
     "base_uri": "https://localhost:8080/"
    },
    "id": "QeXqdXsm3lWc",
    "outputId": "315ee8d1-993d-4fc2-d8d5-af97ceb48bc5"
   },
   "outputs": [
    {
     "data": {
      "text/plain": [
       "{'aircraft': 'Airbus A380-800',\n",
       " 'fuselage': {'length': 72.72, 'height': 8.41, 'width': 7.14},\n",
       " 'wing': {'area': 845, 'span': 79.75, 'mac': None, 'sweep': 33.5, 't/c': 0.08},\n",
       " 'flaps': {'type': 'single-slotted', 'area': None, 'bf/b': None},\n",
       " 'limits': {'MTOW': 560000,\n",
       "  'MLW': 386000,\n",
       "  'OEW': 277000,\n",
       "  'MFC': 320000,\n",
       "  'VMO': 340,\n",
       "  'MMO': 0.89,\n",
       "  'ceiling': 13100},\n",
       " 'cruise': {'height': 12800, 'mach': 0.85},\n",
       " 'engine': {'type': 'turbofan',\n",
       "  'mount': 'wing',\n",
       "  'number': 4,\n",
       "  'default': 'GP7270',\n",
       "  'options': {'A380-841': 'Trent 970-84',\n",
       "   'A380-842': 'Trent 972-84',\n",
       "   'A380-861': 'GP7270'}}}"
      ]
     },
     "execution_count": 6,
     "metadata": {},
     "output_type": "execute_result"
    }
   ],
   "source": [
    "# https://openap.dev/usage\n",
    "from openap import prop\n",
    "\n",
    "# Get aircraft properties\n",
    "aircraft = prop.aircraft(aircraft_type)\n",
    "aircraft"
   ]
  },
  {
   "cell_type": "code",
   "execution_count": 7,
   "metadata": {
    "colab": {
     "base_uri": "https://localhost:8080/"
    },
    "id": "NIVqN5p630YI",
    "outputId": "e7f48448-af8c-4729-8c30-36c73e870fd3"
   },
   "outputs": [
    {
     "data": {
      "text/plain": [
       "{'uid': '18RR081',\n",
       " 'name': 'Trent 970-84',\n",
       " 'manufacturer': 'Rolls-Royce plc',\n",
       " 'type': 'TF',\n",
       " 'bpr': 8.45,\n",
       " 'pr': 38.0,\n",
       " 'max_thrust': 338700,\n",
       " 'ei_hc_to': 0.02,\n",
       " 'ei_hc_co': 0.12,\n",
       " 'ei_hc_app': 0.08,\n",
       " 'ei_hc_idl': 0.04,\n",
       " 'ei_co_to': 0.32,\n",
       " 'ei_co_co': 0.31,\n",
       " 'ei_co_app': 1.16,\n",
       " 'ei_co_idl': 13.38,\n",
       " 'ei_nox_to': 38.29,\n",
       " 'ei_nox_co': 29.42,\n",
       " 'ei_nox_app': 12.09,\n",
       " 'ei_nox_idl': 5.44,\n",
       " 'ff_to': 2.605,\n",
       " 'ff_co': 2.157,\n",
       " 'ff_app': 0.72,\n",
       " 'ff_idl': 0.255,\n",
       " 'fuel_lto': 965.0,\n",
       " 'fuel_c3': -0.240299,\n",
       " 'fuel_c2': 1.05084,\n",
       " 'fuel_c1': 1.66078,\n",
       " 'fuel_a': 1.30706,\n",
       " 'fuel_b': 0.421769,\n",
       " 'cruise_thrust': nan,\n",
       " 'cruise_sfc': nan,\n",
       " 'cruise_mach': nan,\n",
       " 'cruise_alt': nan,\n",
       " 'fuel_ch': 6.7e-07}"
      ]
     },
     "execution_count": 7,
     "metadata": {},
     "output_type": "execute_result"
    }
   ],
   "source": [
    "# Get engine properties\n",
    "engine = prop.engine(engine_name)\n",
    "engine"
   ]
  },
  {
   "cell_type": "code",
   "execution_count": 8,
   "metadata": {
    "colab": {
     "base_uri": "https://localhost:8080/"
    },
    "id": "ytVGZ5JG38m7",
    "outputId": "42f2aabe-def0-415d-e693-de843833a2f0"
   },
   "outputs": [
    {
     "data": {
      "text/plain": [
       "array([4.25069462, 4.2451446 , 4.23985146, ..., 3.33626512, 3.28688298,\n",
       "       3.23678709])"
      ]
     },
     "execution_count": 8,
     "metadata": {},
     "output_type": "execute_result"
    }
   ],
   "source": [
    "# Calculate fuel flow: https://openap.dev/emission\n",
    "from openap import FuelFlow\n",
    "\n",
    "fuelflow = FuelFlow(ac=aircraft_type, eng=engine_name)\n",
    "ff_cruise = fuelflow.enroute(\n",
    "    mass=flight[\"aircraft_mass\"],\n",
    "    tas=units.m_per_s_to_knots(flight[\"true_airspeed\"]),\n",
    "    alt=flight[\"altitude_ft\"],\n",
    "    path_angle=0,\n",
    ")\n",
    "ff_cruise"
   ]
  },
  {
   "cell_type": "code",
   "execution_count": 9,
   "metadata": {
    "colab": {
     "base_uri": "https://localhost:8080/",
     "height": 467
    },
    "id": "KVKI35Ck-Zau",
    "outputId": "3d56dff4-f02d-40be-a3b4-65a8301c38d7"
   },
   "outputs": [
    {
     "data": {
      "image/png": "[encoded data removed]",
      "text/plain": [
       "<Figure size 640x480 with 1 Axes>"
      ]
     },
     "metadata": {},
     "output_type": "display_data"
    }
   ],
   "source": [
    "# Compare fuel flow estimates: OpenAP vs. BADA (rounded to 2 d.p.)\n",
    "import matplotlib.pyplot as plt\n",
    "\n",
    "f, ax = plt.subplots()\n",
    "plt.scatter(ff_cruise, flight[\"fuel_flow\"], s=1)\n",
    "plt.xlabel(\"OpenAP (kg/s)\")\n",
    "plt.ylabel(\"BADA, rounded to 2 d.p. (kg/s)\")\n",
    "lims = [np.min([ax.get_xlim(), ax.get_ylim()]), np.max([ax.get_xlim(), ax.get_ylim()])]\n",
    "ax.plot(lims, lims, \"k-\", alpha=0.75, linewidth=0.5)\n",
    "ax.set_aspect(\"equal\")\n",
    "ax.set_xlim(lims)\n",
    "ax.set_ylim(lims);\n",
    "\n",
    "# BADA accounts for acceleration/deceleration between waypoints"
   ]
  },
  {
   "cell_type": "code",
   "execution_count": 10,
   "metadata": {
    "id": "6tquvDJMfMMT"
   },
   "outputs": [],
   "source": [
    "# Calculate overall propulsion efficiency (OPE) using OpenAP\n",
    "from pycontrails.physics import jet\n",
    "from openap import Drag\n",
    "\n",
    "# Assume drag = thrust as waypoints are filtered for cruise phase\n",
    "drag = Drag(ac=aircraft_type, eng=engine_name)\n",
    "f_thrust = drag.clean(\n",
    "    mass=flight[\"aircraft_mass\"],\n",
    "    tas=units.m_per_s_to_knots(flight[\"true_airspeed\"]),\n",
    "    alt=flight[\"altitude_ft\"],\n",
    "    path_angle=0,\n",
    ")\n",
    "\n",
    "ope = jet.overall_propulsion_efficiency(\n",
    "    flight[\"true_airspeed\"],\n",
    "    f_thrust,\n",
    "    flight[\"fuel_flow\"],\n",
    "    q_fuel=43.2e6,\n",
    "    is_descent=None,\n",
    ")"
   ]
  },
  {
   "cell_type": "code",
   "execution_count": 11,
   "metadata": {
    "colab": {
     "base_uri": "https://localhost:8080/",
     "height": 467
    },
    "id": "EOnieylafMWC",
    "outputId": "ca30e0f8-e063-4d32-c1e0-5b4a1bb25a88"
   },
   "outputs": [
    {
     "data": {
      "image/png": "[encoded data removed]",
      "text/plain": [
       "<Figure size 640x480 with 1 Axes>"
      ]
     },
     "metadata": {},
     "output_type": "display_data"
    }
   ],
   "source": [
    "f, ax = plt.subplots()\n",
    "plt.scatter(ope, flight[\"engine_efficiency\"], s=1)\n",
    "plt.xlabel(\"OPE: OpenAP\")\n",
    "plt.ylabel(\"OPE: BADA\")\n",
    "lims = [np.min([ax.get_xlim(), ax.get_ylim()]), np.max([ax.get_xlim(), ax.get_ylim()])]\n",
    "ax.plot(lims, lims, \"k-\", alpha=0.75, linewidth=0.5)\n",
    "ax.set_aspect(\"equal\")\n",
    "ax.set_xlim(lims);\n",
    "ax.set_ylim(lims);"
   ]
  },
  {
   "cell_type": "code",
   "execution_count": 12,
   "metadata": {
    "colab": {
     "base_uri": "https://localhost:8080/"
    },
    "id": "uVusj6ug38yz",
    "outputId": "edd16d00-f2cb-4267-86e3-44bdf3b37eb1"
   },
   "outputs": [
    {
     "data": {
      "text/plain": [
       "array([86.82786636, 86.56464249, 86.31196529, ..., 55.04762763,\n",
       "       53.31598469, 51.61178066])"
      ]
     },
     "execution_count": 12,
     "metadata": {},
     "output_type": "execute_result"
    }
   ],
   "source": [
    "# Calculate emissions using OpenAP: https://openap.dev/emission\n",
    "\n",
    "# NOTE: No nvPM emissions\n",
    "from openap import Emission\n",
    "\n",
    "emission_openap = Emission(ac=aircraft_type, eng=engine_name)\n",
    "co2 = emission_openap.co2(ff_cruise)\n",
    "nox = emission_openap.nox(\n",
    "    ff_cruise,\n",
    "    tas=units.m_per_s_to_knots(flight[\"true_airspeed\"]),\n",
    "    alt=flight[\"altitude_ft\"],\n",
    ")\n",
    "nox"
   ]
  },
  {
   "cell_type": "code",
   "execution_count": 13,
   "metadata": {},
   "outputs": [
    {
     "data": {
      "text/plain": [
       "flight_id                          200101-46388-SIA308\n",
       "callsign                                        SIA308\n",
       "icao_address                                    76CD6D\n",
       "flight_number                                    SQ308\n",
       "tail_number                                     9V-SKM\n",
       "aircraft_type_icao                                A388\n",
       "aircraft_engine_type                               Jet\n",
       "origin_airport                                    WSSS\n",
       "origin_airport_name           Singapore Changi Airport\n",
       "origin_country                                      SG\n",
       "destination_airport                               EGLL\n",
       "destination_airport_name       London Heathrow Airport\n",
       "destination_country                                 GB\n",
       "time_first_waypoint         2020-01-01 01:19:01.753000\n",
       "time_last_waypoint          2020-01-01 14:50:15.788000\n",
       "duration_hours                                   13.52\n",
       "total_distance_km                             11221.98\n",
       "n_waypoints                                       1166\n",
       "aircraft_type_bada                            A380-841\n",
       "engine_name                               Trent 970-84\n",
       "engine_uid                                  01P18RR103\n",
       "n_engine                                             4\n",
       "wingspan                                          79.8\n",
       "total_fuel_burn                          171127.068125\n",
       "Name: 43, dtype: object"
      ]
     },
     "execution_count": 13,
     "metadata": {},
     "output_type": "execute_result"
    }
   ],
   "source": [
    "flight_attrs"
   ]
  },
  {
   "cell_type": "code",
   "execution_count": 14,
   "metadata": {
    "id": "IdwaPYLb8p4J"
   },
   "outputs": [],
   "source": [
    "# Calculate emissions using pycontrails\n",
    "from pycontrails.models.emissions import Emissions\n",
    "\n",
    "# Attach additional flight properties\n",
    "flight.attrs[\"engine_uid\"] = flight_attrs[\"engine_uid\"]\n",
    "flight.attrs[\"n_engine\"] = flight_attrs[\"n_engine\"]\n",
    "\n",
    "# Instantiate emissions class\n",
    "emissions = Emissions(copy_source=False)\n",
    "\n",
    "flight = emissions.eval(source=flight)"
   ]
  },
  {
   "cell_type": "code",
   "execution_count": 15,
   "metadata": {
    "colab": {
     "base_uri": "https://localhost:8080/"
    },
    "id": "2LZpN71PEm4_",
    "outputId": "1bdc9d61-7139-4f51-f85c-0cb5348793ed"
   },
   "outputs": [
    {
     "data": {
      "text/plain": [
       "array([4.13338176e+14, 4.17637011e+14, 3.34075253e+14, ...,\n",
       "       1.57538041e+15, 1.51172057e+15, 1.44535462e+15])"
      ]
     },
     "execution_count": 15,
     "metadata": {},
     "output_type": "execute_result"
    }
   ],
   "source": [
    "flight[\"nvpm_ei_n\"]"
   ]
  }
 ],
 "metadata": {
  "colab": {
   "provenance": []
  },
  "kernelspec": {
   "display_name": "Python 3 (ipykernel)",
   "language": "python",
   "name": "python3"
  },
  "language_info": {
   "codemirror_mode": {
    "name": "ipython",
    "version": 3
   },
   "file_extension": ".py",
   "mimetype": "text/x-python",
   "name": "python",
   "nbconvert_exporter": "python",
   "pygments_lexer": "ipython3",
   "version": "3.10.8"
  }
 },
 "nbformat": 4,
 "nbformat_minor": 4
}
