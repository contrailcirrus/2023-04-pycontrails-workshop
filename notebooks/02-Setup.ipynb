{
 "cells": [
  {
   "cell_type": "markdown",
   "id": "8a2a7171-6d54-4acd-ad67-2506d94d83dc",
   "metadata": {},
   "source": [
    "# Setup\n",
    "\n",
    "- Authors: Marc Shapiro, Zeb Engberg\n",
    "- Date: 2023-04-18\n",
    "- `pycontrails`: v0.40.1\n",
    "\n",
    "[![Open In Colab](https://colab.research.google.com/assets/colab-badge.svg)](https://colab.research.google.com/github/contrailcirrus/2023-04-pycontrails-workshop/blob/main/notebooks/02-Setup.ipynb)"
   ]
  },
  {
   "cell_type": "markdown",
   "id": "2d39c05a-8e2e-4797-8a02-9604e59e52e2",
   "metadata": {},
   "source": [
    "## Get Python\n",
    "\n",
    "You can download Python from many places.\n",
    "Most people choose to use [Anaconda Python](https://www.anaconda.com/) or [the standard Python distr](https://python.org).\n",
    "You can also use a hosted version of Python in [Google Colab](https://colab.research.google.com).\n",
    "\n",
    "If working on your own computer (i.e. not Colab) you will likely want to create a virtual environment.\n",
    "\n",
    "### What is a virtual environment?\n",
    "\n",
    "A virtual environment:\n",
    "\n",
    "- provides a way to create a self-contained python environment\n",
    "- avoids breaking existing workflows by isolating the environment\n",
    "- is easy to create and remove\n",
    "- helps keep dependencies consistent\n",
    "\n",
    "### How to create one?\n",
    "\n",
    "There are many tools for creating virtual environments. Two common ones are:\n",
    "\n",
    "- `conda`: Powerful, capable of installing system-level libraries (in addition to python packages), handles installation of the python runtime itself\n",
    "- `venv`: Lightweight, part of the python standard library, requires an existing python installation.\n",
    "\n",
    "### What about colab?\n",
    "\n",
    "- If working directly in a [Google Colab](https://colab.research.google.com) notebook, you are already working in a virtual environment. You can use `pip` directly in a Colab cell to install the packages you need.\n",
    "- Each colab notebook is situated in its own implicit virtual environment on a virtual machine in the cloud.\n",
    "\n",
    "In short, if working in colab, you can simply run `!pip install pycontrails` in your first notebook cell to install `pycontrails` in the environment."
   ]
  },
  {
   "cell_type": "markdown",
   "id": "51c64aa2-fdd6-4489-aa4b-07879ffd0d14",
   "metadata": {
    "tags": []
   },
   "source": [
    "## Create a Virtual Environment"
   ]
  },
  {
   "cell_type": "markdown",
   "id": "695acf0f-4a4f-4b85-9a31-7dc6d293f67b",
   "metadata": {},
   "source": [
    "### Conda\n",
    "\n",
    "#### Create\n",
    "\n",
    "Create a dedicated virtual environment with python 3.11 (python 3.9, 3.10, 3.11 all work well).\n",
    "\n",
    "```sh\n",
    "conda create -n <ENV_NAME> python=3.11\n",
    "```\n",
    "\n",
    "Replace ENV_NAME with a descriptive name for your environment (e.g. \"contrails\").\n",
    "\n",
    "#### Activate\n",
    "\n",
    "Activate the virtual environment.\n",
    "\n",
    "```sh\n",
    "conda activate <ENV_NAME>\n",
    "```\n",
    "\n",
    "You can confirm that it's activated (unix-like).\n",
    "\n",
    "```sh\n",
    "$ which python\n",
    ".../envs/ENV_NAME/python\n",
    "```"
   ]
  },
  {
   "cell_type": "markdown",
   "id": "95886a36-5e86-46b3-8955-9a8579a2a9dd",
   "metadata": {},
   "source": [
    "### `venv`\n",
    "\n",
    "Using `venv` to create an isolated virtual environment is similar.\n",
    "\n",
    "#### Create\n",
    "\n",
    "With an available python interpreter already install on your machine, create a dedicated virtual environment.\n",
    "\n",
    "```sh\n",
    "python -m venv <ENV_NAME>\n",
    "```\n",
    "\n",
    "This creates an `<ENV_NAME>` directory that shims your path when activated. The directory can be freely deleted if the environment is no longer needed.\n",
    "\n",
    "#### Activate\n",
    "\n",
    "On unix-like systems, activate with:\n",
    "\n",
    "```sh\n",
    "source <ENV_NAME>/bin/activate\n",
    "```\n",
    "\n",
    "On windows systems, activate with:\n",
    "\n",
    "```sh\n",
    "source <ENV_NAME>/Scripts/activate\n",
    "```"
   ]
  },
  {
   "cell_type": "markdown",
   "id": "a668c877-379b-4a42-bdf4-f893fbd62e07",
   "metadata": {},
   "source": [
    "## Install `pycontrails`\n",
    "\n",
    "The `pycontrails` package is available on [PyPI](https://pypi.org/project/pycontrails/) and can be easily install with `pip`.\n",
    "\n",
    "```sh\n",
    "pip install pycontrails\n",
    "```\n",
    "\n",
    "Check the version.\n",
    "\n",
    "```sh\n",
    "$ python -c \"import pycontrails; print(pycontrails.__version__)\"\n",
    "0.40.1\n",
    "```\n",
    "\n",
    "### Optional dependencies\n",
    "\n",
    "The pycontrails package includes [optional dependencies](https://py.contrails.org/install.html#optional-dependencies). These dependencies install packages required for specialized workflows."
   ]
  },
  {
   "cell_type": "markdown",
   "id": "8772429a-a60a-42e6-8029-9b7c75e0dabe",
   "metadata": {},
   "source": [
    "## Install `pycontrails` from source\n",
    "\n",
    "> Installing `pycontrails` from source requires a C compiler (e.g. `gcc`, `clang`, `Visual Studio C`).\n",
    "\n",
    "You can install `pycontrails` directly from source. \n",
    "To do this, you can `git clone` (or download) the repository:\n",
    "\n",
    "```bash\n",
    "# with ssh (recommended) - requires ssh key\n",
    "# https://docs.github.com/en/authentication/connecting-to-github-with-ssh/adding-a-new-ssh-key-to-your-github-account\n",
    "$ git clone git@github.com:contrailcirrus/pycontrails.git\n",
    "\n",
    "# with https - requires setting up a Personal Access Token\n",
    "# https://docs.github.com/en/authentication/keeping-your-account-and-data-secure/creating-a-personal-access-token\n",
    "$ git clone https://github.com/contrailcirrus/pycontrails.git\n",
    "```\n",
    "\n",
    "Move into the `pycontrails` folder:\n",
    "\n",
    "```\n",
    "$ cd pycontrails\n",
    "```\n",
    "\n",
    "and `pip install pycontrails` from the cloned source:\n",
    "\n",
    "```\n",
    "$ pip install pycontrails\n",
    "```\n",
    "\n",
    "To install in [editable mode](https://setuptools.pypa.io/en/latest/userguide/development_mode.html):\n",
    "\n",
    "```\n",
    "$ pip install -e pycontrails\n",
    "```"
   ]
  }
 ],
 "metadata": {
  "kernelspec": {
   "display_name": "Python 3 (ipykernel)",
   "language": "python",
   "name": "python3"
  },
  "language_info": {
   "codemirror_mode": {
    "name": "ipython",
    "version": 3
   },
   "file_extension": ".py",
   "mimetype": "text/x-python",
   "name": "python",
   "nbconvert_exporter": "python",
   "pygments_lexer": "ipython3",
   "version": "3.10.8"
  }
 },
 "nbformat": 4,
 "nbformat_minor": 5
}
