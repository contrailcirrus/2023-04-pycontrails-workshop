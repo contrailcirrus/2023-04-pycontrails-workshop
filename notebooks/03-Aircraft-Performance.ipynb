{
 "cells": [
  {
   "cell_type": "markdown",
   "metadata": {},
   "source": [
    "# Aircraft performance\n",
    "\n",
    "- Authors: Roger Teoh\n",
    "- Date: 2023-04-15\n",
    "- `pycontrails`: v0.39.6\n",
    "\n",
    "[![Open In Colab](https://colab.research.google.com/assets/colab-badge.svg)](https://colab.research.google.com/github/contrailcirrus/2023-04-pycontrails-workshop/blob/main/notebooks/XX-Geospatial.ipynb)"
   ]
  },
  {
   "cell_type": "code",
   "execution_count": null,
   "metadata": {
    "id": "99-4hwX7uS7N"
   },
   "outputs": [],
   "source": [
    "!pip install numpy\n",
    "!pip install pandas\n",
    "!pip install matplotlib\n",
    "!pip install openap\n",
    "!pip install pycontrails"
   ]
  },
  {
   "cell_type": "code",
   "execution_count": null,
   "metadata": {
    "id": "fW6ycqOvueIs"
   },
   "outputs": [],
   "source": [
    "# GCP Bucket with sample data\n",
    "GCP_BUCKET = \"gs://2023-04-pycontrails-workshop\"\n",
    "\n",
    "# make data/ directory\n",
    "!mkdir -p \"data/flight/sample\"\n",
    "\n",
    "# sync sample flight files\n",
    "!gsutil -m rsync -r \"{GCP_BUCKET}/data/flight/sample\" \"data/flight/sample\""
   ]
  },
  {
   "cell_type": "code",
   "execution_count": null,
   "metadata": {
    "id": "YE-5Gj13uwzo"
   },
   "outputs": [],
   "source": [
    "import pandas as pd\n",
    "import numpy as np\n",
    "from pycontrails import Flight\n",
    "from pycontrails.physics import units"
   ]
  },
  {
   "cell_type": "code",
   "execution_count": null,
   "metadata": {
    "id": "C6uFU2N3WsZm"
   },
   "outputs": [],
   "source": [
    "# Load all sample flights\n",
    "waypoints = pd.read_parquet(\"data/flight/sample/waypoints.pq\")\n",
    "\n",
    "# Select one flight\n",
    "flight_id = \"200101-46388-SIA308\"\n",
    "df_flight = waypoints.loc[waypoints[\"flight_id\"] == flight_id]"
   ]
  },
  {
   "cell_type": "code",
   "execution_count": null,
   "metadata": {
    "id": "A_EraJhLWuVm"
   },
   "outputs": [],
   "source": [
    "# Cruise only (filter for waypoints > 30,000 feet and minimal change in altitude)\n",
    "d_altitude = np.diff(df_flight[\"altitude_ft\"].values, append=np.nan)\n",
    "df_flight = df_flight.loc[(df_flight[\"altitude_ft\"] > 30000) & (d_altitude <= 25)]\n",
    "\n",
    "# Assume ISA temperature \n",
    "df_flight[\"air_temperature\"] = units.m_to_T_isa(units.ft_to_m(df_flight[\"altitude_ft\"]))\n",
    "df_flight[\"specific_humidity\"] = 0.0"
   ]
  },
  {
   "cell_type": "code",
   "execution_count": null,
   "metadata": {
    "id": "4dhfP_5-WwOB"
   },
   "outputs": [],
   "source": [
    "# Instantiate flight object\n",
    "flight = Flight(df_flight, flight_id=flight_id, aircraft_type=\"A388\")\n",
    "flight"
   ]
  },
  {
   "cell_type": "code",
   "execution_count": null,
   "metadata": {
    "colab": {
     "base_uri": "https://localhost:8080/"
    },
    "id": "QeXqdXsm3lWc",
    "outputId": "315ee8d1-993d-4fc2-d8d5-af97ceb48bc5"
   },
   "outputs": [
    {
     "data": {
      "text/plain": [
       "{'aircraft': 'Airbus A380-800',\n",
       " 'fuselage': {'length': 72.72, 'height': 8.41, 'width': 7.14},\n",
       " 'wing': {'area': 845, 'span': 79.75, 'mac': None, 'sweep': 33.5, 't/c': 0.08},\n",
       " 'flaps': {'type': 'single-slotted', 'area': None, 'bf/b': None},\n",
       " 'limits': {'MTOW': 560000,\n",
       "  'MLW': 386000,\n",
       "  'OEW': 277000,\n",
       "  'MFC': 320000,\n",
       "  'VMO': 340,\n",
       "  'MMO': 0.89,\n",
       "  'ceiling': 13100},\n",
       " 'cruise': {'height': 12800, 'mach': 0.85},\n",
       " 'engine': {'type': 'turbofan',\n",
       "  'mount': 'wing',\n",
       "  'number': 4,\n",
       "  'default': 'GP7270',\n",
       "  'options': {'A380-841': 'Trent 970-84',\n",
       "   'A380-842': 'Trent 972-84',\n",
       "   'A380-861': 'GP7270'}}}"
      ]
     },
     "execution_count": 70,
     "metadata": {},
     "output_type": "execute_result"
    }
   ],
   "source": [
    "# https://openap.dev/usage\n",
    "from openap import prop\n",
    "\n",
    "# Get aircraft properties\n",
    "aircraft = prop.aircraft(\"A388\")\n",
    "aircraft"
   ]
  },
  {
   "cell_type": "code",
   "execution_count": null,
   "metadata": {
    "colab": {
     "base_uri": "https://localhost:8080/"
    },
    "id": "NIVqN5p630YI",
    "outputId": "e7f48448-af8c-4729-8c30-36c73e870fd3"
   },
   "outputs": [
    {
     "data": {
      "text/plain": [
       "{'uid': '18RR081',\n",
       " 'name': 'Trent 970-84',\n",
       " 'manufacturer': 'Rolls-Royce plc',\n",
       " 'type': 'TF',\n",
       " 'bpr': 8.45,\n",
       " 'pr': 38.0,\n",
       " 'max_thrust': 338700,\n",
       " 'ei_hc_to': 0.02,\n",
       " 'ei_hc_co': 0.12,\n",
       " 'ei_hc_app': 0.08,\n",
       " 'ei_hc_idl': 0.04,\n",
       " 'ei_co_to': 0.32,\n",
       " 'ei_co_co': 0.31,\n",
       " 'ei_co_app': 1.16,\n",
       " 'ei_co_idl': 13.38,\n",
       " 'ei_nox_to': 38.29,\n",
       " 'ei_nox_co': 29.42,\n",
       " 'ei_nox_app': 12.09,\n",
       " 'ei_nox_idl': 5.44,\n",
       " 'ff_to': 2.605,\n",
       " 'ff_co': 2.157,\n",
       " 'ff_app': 0.72,\n",
       " 'ff_idl': 0.255,\n",
       " 'fuel_lto': 965.0,\n",
       " 'fuel_c3': -0.240299,\n",
       " 'fuel_c2': 1.05084,\n",
       " 'fuel_c1': 1.66078,\n",
       " 'fuel_a': 1.30706,\n",
       " 'fuel_b': 0.421769,\n",
       " 'cruise_thrust': nan,\n",
       " 'cruise_sfc': nan,\n",
       " 'cruise_mach': nan,\n",
       " 'cruise_alt': nan,\n",
       " 'fuel_ch': 6.7e-07}"
      ]
     },
     "execution_count": 71,
     "metadata": {},
     "output_type": "execute_result"
    }
   ],
   "source": [
    "# Get engine properties\n",
    "engine = prop.engine(\"Trent 970-84\")\n",
    "engine"
   ]
  },
  {
   "cell_type": "code",
   "execution_count": null,
   "metadata": {
    "colab": {
     "base_uri": "https://localhost:8080/"
    },
    "id": "ytVGZ5JG38m7",
    "outputId": "42f2aabe-def0-415d-e693-de843833a2f0"
   },
   "outputs": [
    {
     "data": {
      "text/plain": [
       "array([4.25069462, 4.2451446 , 4.23985146, ..., 3.48280415, 3.48230601,\n",
       "       3.4818292 ])"
      ]
     },
     "execution_count": 72,
     "metadata": {},
     "output_type": "execute_result"
    }
   ],
   "source": [
    "# Calculate fuel flow: https://openap.dev/emission \n",
    "from openap import FuelFlow\n",
    "\n",
    "fuelflow = FuelFlow(ac='A388', eng='Trent 970-84')\n",
    "ff_cruise = fuelflow.enroute(mass=flight[\"aircraft_mass\"], tas=unit.m_per_s_to_knots(flight[\"true_airspeed\"]), alt=flight[\"altitude_ft\"], path_angle=0)\n",
    "ff_cruise"
   ]
  },
  {
   "cell_type": "code",
   "execution_count": null,
   "metadata": {
    "colab": {
     "base_uri": "https://localhost:8080/",
     "height": 467
    },
    "id": "KVKI35Ck-Zau",
    "outputId": "3d56dff4-f02d-40be-a3b4-65a8301c38d7"
   },
   "outputs": [
    {
     "data": {
      "text/plain": [
       "(2.558076411066796, 4.3148535042349145)"
      ]
     },
     "execution_count": 73,
     "metadata": {},
     "output_type": "execute_result"
    },
    {
     "data": {
      "image/png": "[encoded data removed]",
      "text/plain": [
       "<Figure size 640x480 with 1 Axes>"
      ]
     },
     "metadata": {},
     "output_type": "display_data"
    }
   ],
   "source": [
    "# Compare fuel flow estimates: OpenAP vs. BADA (rounded to 2 d.p.)\n",
    "import matplotlib.pyplot as plt\n",
    "\n",
    "f, ax = plt.subplots()\n",
    "plt.scatter(ff_cruise, flight[\"fuel_flow\"], s=1)\n",
    "plt.xlabel(\"OpenAP (kg/s)\")\n",
    "plt.ylabel(\"BADA, rounded to 2 d.p. (kg/s)\")\n",
    "lims = [np.min([ax.get_xlim(), ax.get_ylim()]), np.max([ax.get_xlim(), ax.get_ylim()])]\n",
    "ax.plot(lims, lims, 'k-', alpha=0.75, linewidth=0.5)\n",
    "ax.set_aspect('equal');\n",
    "ax.set_xlim(lims);\n",
    "ax.set_ylim(lims);\n",
    "\n",
    "# BADA accounts for acceleration/deceleration between waypoints"
   ]
  },
  {
   "cell_type": "code",
   "execution_count": null,
   "metadata": {
    "id": "6tquvDJMfMMT"
   },
   "outputs": [],
   "source": [
    "# Calculate overall propulsion efficiency (OPE) using OpenAP\n",
    "from pycontrails.physics.jet import overall_propulsion_efficiency\n",
    "from openap import Drag\n",
    "\n",
    "# Assume drag = thrust as waypoints are filtered for cruise phase \n",
    "drag = Drag(ac='A388', eng='Trent 970-84')\n",
    "f_thrust = drag.clean(mass=flight[\"aircraft_mass\"], tas=units.m_per_s_to_knots(flight[\"true_airspeed\"]), alt=flight[\"altitude_ft\"], path_angle=0)\n",
    "\n",
    "ope = overall_propulsion_efficiency(flight[\"true_airspeed\"], f_thrust, flight[\"fuel_flow\"], q_fuel=43.2e6, is_descent=None)"
   ]
  },
  {
   "cell_type": "code",
   "execution_count": null,
   "metadata": {
    "colab": {
     "base_uri": "https://localhost:8080/",
     "height": 467
    },
    "id": "EOnieylafMWC",
    "outputId": "ca30e0f8-e063-4d32-c1e0-5b4a1bb25a88"
   },
   "outputs": [
    {
     "data": {
      "text/plain": [
       "(0.3256085133635274, 0.5083043565064987)"
      ]
     },
     "execution_count": 93,
     "metadata": {},
     "output_type": "execute_result"
    },
    {
     "data": {
      "image/png": "[encoded data removed]",
      "text/plain": [
       "<Figure size 640x480 with 1 Axes>"
      ]
     },
     "metadata": {},
     "output_type": "display_data"
    }
   ],
   "source": [
    "f, ax = plt.subplots()\n",
    "plt.scatter(ope, flight[\"engine_efficiency\"], s=1)\n",
    "plt.xlabel(\"OPE: OpenAP\")\n",
    "plt.ylabel(\"OPE: BADA\")\n",
    "lims = [np.min([ax.get_xlim(), ax.get_ylim()]), np.max([ax.get_xlim(), ax.get_ylim()])]\n",
    "ax.plot(lims, lims, 'k-', alpha=0.75, linewidth=0.5)\n",
    "ax.set_aspect('equal')\n",
    "ax.set_xlim(lims)\n",
    "ax.set_ylim(lims)"
   ]
  },
  {
   "cell_type": "code",
   "execution_count": null,
   "metadata": {
    "colab": {
     "base_uri": "https://localhost:8080/"
    },
    "id": "uVusj6ug38yz",
    "outputId": "edd16d00-f2cb-4267-86e3-44bdf3b37eb1"
   },
   "outputs": [
    {
     "data": {
      "text/plain": [
       "array([86.82786636, 86.56464249, 86.31196529, ..., 64.03360415,\n",
       "       64.01962628, 64.00660815])"
      ]
     },
     "execution_count": 74,
     "metadata": {},
     "output_type": "execute_result"
    }
   ],
   "source": [
    "# Calculate emissions using OpenAP: https://openap.dev/emission\n",
    "\n",
    "# NOTE: No nvPM emissions\n",
    "from openap import Emission\n",
    "\n",
    "emission_openap = Emission(ac='A388', eng='Trent 970-84')\n",
    "co2 = emission_openap.co2(ff_cruise)\n",
    "nox = emission_openap.nox(ff_cruise, tas=units.m_per_s_to_knots(flight[\"true_airspeed\"]), alt=flight[\"altitude_ft\"])\n",
    "nox"
   ]
  },
  {
   "cell_type": "code",
   "execution_count": null,
   "metadata": {
    "id": "IdwaPYLb8p4J"
   },
   "outputs": [],
   "source": [
    "# Calculate emissions using pycontrails\n",
    "from pycontrails.models.emissions import Emissions\n",
    "\n",
    "# Attach additional flight properties\n",
    "flight.attrs[\"engine_uid\"] = \"01P18RR103\"\n",
    "flight.attrs[\"n_engine\"] = 4\n",
    "\n",
    "# Instantiate emissions class\n",
    "emissions = Emissions(copy_source=False)\n",
    "\n",
    "flight = emissions.eval(source=flight)"
   ]
  },
  {
   "cell_type": "code",
   "execution_count": null,
   "metadata": {
    "colab": {
     "base_uri": "https://localhost:8080/"
    },
    "id": "2LZpN71PEm4_",
    "outputId": "1bdc9d61-7139-4f51-f85c-0cb5348793ed"
   },
   "outputs": [
    {
     "data": {
      "text/plain": [
       "array([4.13338176e+14, 4.17637011e+14, 3.34075253e+14, ...,\n",
       "       5.71571912e+14, 5.70251565e+14, 5.69004166e+14])"
      ]
     },
     "execution_count": 82,
     "metadata": {},
     "output_type": "execute_result"
    }
   ],
   "source": [
    "flight[\"nvpm_ei_n\"]"
   ]
  }
 ],
 "metadata": {
  "colab": {
   "provenance": []
  },
  "kernelspec": {
   "display_name": "Python 3 (ipykernel)",
   "language": "python",
   "name": "python3"
  },
  "language_info": {
   "codemirror_mode": {
    "name": "ipython",
    "version": 3
   },
   "file_extension": ".py",
   "mimetype": "text/x-python",
   "name": "python",
   "nbconvert_exporter": "python",
   "pygments_lexer": "ipython3",
   "version": "3.10.8"
  }
 },
 "nbformat": 4,
 "nbformat_minor": 4
}
