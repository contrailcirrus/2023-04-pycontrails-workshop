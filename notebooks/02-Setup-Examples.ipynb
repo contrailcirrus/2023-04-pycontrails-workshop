{
 "cells": [
  {
   "cell_type": "markdown",
   "id": "8a2a7171-6d54-4acd-ad67-2506d94d83dc",
   "metadata": {},
   "source": [
    "# Setup and Examples\n",
    "\n",
    "- Authors: Marc Shapiro, Zeb Engberg\n",
    "- Date: 2023-04-14\n",
    "- `pycontrails`: v0.39.6\n",
    "\n",
    "Review setup and example `pycontrails` usage.\n",
    "\n",
    "[![Open In Colab](https://colab.research.google.com/assets/colab-badge.svg)](https://colab.research.google.com/github/contrailcirrus/2023-04-pycontrails-workshop/blob/main/notebooks/XX-Setup-Examples.ipynb)\n",
    "\n",
    "## TODO:\n",
    "\n",
    "- [ ] Cloud architecture"
   ]
  },
  {
   "cell_type": "markdown",
   "id": "695acf0f-4a4f-4b85-9a31-7dc6d293f67b",
   "metadata": {},
   "source": []
  },
  {
   "cell_type": "code",
   "execution_count": null,
   "id": "1f509d19-113a-45df-a128-99a1c5593ac9",
   "metadata": {},
   "outputs": [],
   "source": []
  }
 ],
 "metadata": {
  "kernelspec": {
   "display_name": "Python 3 (ipykernel)",
   "language": "python",
   "name": "python3"
  },
  "language_info": {
   "codemirror_mode": {
    "name": "ipython",
    "version": 3
   },
   "file_extension": ".py",
   "mimetype": "text/x-python",
   "name": "python",
   "nbconvert_exporter": "python",
   "pygments_lexer": "ipython3",
   "version": "3.10.8"
  }
 },
 "nbformat": 4,
 "nbformat_minor": 5
}
