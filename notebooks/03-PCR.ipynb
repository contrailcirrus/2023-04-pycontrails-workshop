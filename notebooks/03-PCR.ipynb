{
 "cells": [
  {
   "cell_type": "markdown",
   "id": "0154f871-5fca-4833-94f3-6ef1ec76b885",
   "metadata": {},
   "source": [
    "# Persistent contrail regions\n",
    "\n",
    "- Authors: Marc Shapiro, Zeb Engberg\n",
    "- Date: 2023-04-14\n",
    "- `pycontrails`: v0.39.6\n",
    "\n",
    "End-to-end analysis using `pycontrails` and sample data.\n",
    "\n",
    "[![Open In Colab](https://colab.research.google.com/assets/colab-badge.svg)](https://colab.research.google.com/github/contrailcirrus/2023-04-pycontrails-workshop/blob/main/notebooks/XX-Workshop-Contrails.ipynb)"
   ]
  },
  {
   "cell_type": "markdown",
   "id": "3db09dd9-4a03-4df5-bcbf-4c36ac23ceca",
   "metadata": {},
   "source": [
    "## Goals\n",
    "\n",
    "### Load data\n",
    "\n",
    "- Load meteorology data from ECMWF\n",
    "- Downselect by a region of interest\n",
    "\n",
    "### Model ISSR and SAC regions\n",
    "\n",
    "- Run ISSR and SAC on grid for different engine efficiency assumptions\n",
    "\n",
    "### Analyze outputs\n",
    "\n",
    "- Plot modelled outputs on top of each other\n",
    "- Take a vertical slice of a model output along a fligth trajectory"
   ]
  },
  {
   "cell_type": "markdown",
   "id": "2ca4e0ab-768f-4f41-82b1-477fb758e736",
   "metadata": {},
   "source": [
    "## Download Data"
   ]
  },
  {
   "cell_type": "code",
   "execution_count": null,
   "id": "5d9c791b-c4e4-4939-9d17-86edde838112",
   "metadata": {},
   "outputs": [],
   "source": [
    "# GCP Bucket with sample data\n",
    "GCP_BUCKET = \"gs://2023-04-pycontrails-workshop\"\n",
    "\n",
    "# make data/ directory\n",
    "!mkdir -p \"data\"\n",
    "\n",
    "# sync data files\n",
    "# !gsutil -m rsync -r {GCP_BUCKET}/data data"
   ]
  },
  {
   "cell_type": "code",
   "execution_count": null,
   "id": "bf2b02c5-a159-4a74-a090-4074c0163db4",
   "metadata": {},
   "outputs": [],
   "source": []
  }
 ],
 "metadata": {
  "kernelspec": {
   "display_name": "Python 3 (ipykernel)",
   "language": "python",
   "name": "python3"
  },
  "language_info": {
   "codemirror_mode": {
    "name": "ipython",
    "version": 3
   },
   "file_extension": ".py",
   "mimetype": "text/x-python",
   "name": "python",
   "nbconvert_exporter": "python",
   "pygments_lexer": "ipython3",
   "version": "3.10.8"
  }
 },
 "nbformat": 4,
 "nbformat_minor": 5
}
