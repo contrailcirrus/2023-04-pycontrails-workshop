{
 "cells": [
  {
   "cell_type": "markdown",
   "metadata": {},
   "source": [
    "# ADS-B data processing\n",
    "\n",
    "- Authors: Roger Teoh\n",
    "- Date: 2023-04-18\n",
    "- `pycontrails`: v0.40.1\n",
    "\n",
    "Process raw ADS-B data before using in models.\n",
    "\n",
    "> This functionality will be built into `pycontrails` in [#38](https://github.com/contrailcirrus/pycontrails/pull/38)\n",
    "\n",
    "[![Open In Colab](https://colab.research.google.com/assets/colab-badge.svg)](https://colab.research.google.com/github/contrailcirrus/2023-04-pycontrails-workshop/blob/main/notebooks/03-ADSB-Processing.ipynb)"
   ]
  },
  {
   "cell_type": "code",
   "execution_count": null,
   "metadata": {
    "colab": {
     "background_save": true
    },
    "id": "KbRmfHkKyCs0",
    "outputId": "59baed82-90a7-4768-b146-befbce846bd3"
   },
   "outputs": [],
   "source": [
    "!pip install pycontrails"
   ]
  },
  {
   "cell_type": "code",
   "execution_count": null,
   "metadata": {
    "colab": {
     "background_save": true,
     "base_uri": "https://localhost:8080/"
    },
    "id": "HQ_iPn0DyHFR",
    "outputId": "494859c4-1e98-4cc1-ab3e-22d47ead80da"
   },
   "outputs": [],
   "source": [
    "# GCP Bucket with sample data\n",
    "GCP_BUCKET = \"gs://2023-04-pycontrails-workshop\"\n",
    "\n",
    "# make data/ directory\n",
    "!mkdir -p \"data/flight/global\"\n",
    "\n",
    "# sync sample flight files\n",
    "!gsutil -m rsync -r \"{GCP_BUCKET}/data/flight/global\" \"data/flight/global\""
   ]
  },
  {
   "cell_type": "code",
   "execution_count": 1,
   "metadata": {
    "id": "yWF0js9LyQXa"
   },
   "outputs": [],
   "source": [
    "import numpy as np\n",
    "import pandas as pd"
   ]
  },
  {
   "cell_type": "code",
   "execution_count": 2,
   "metadata": {
    "id": "wRBD4Is5yTk_"
   },
   "outputs": [
    {
     "data": {
      "text/html": [
       "<div>\n",
       "<style scoped>\n",
       "    .dataframe tbody tr th:only-of-type {\n",
       "        vertical-align: middle;\n",
       "    }\n",
       "\n",
       "    .dataframe tbody tr th {\n",
       "        vertical-align: top;\n",
       "    }\n",
       "\n",
       "    .dataframe thead th {\n",
       "        text-align: right;\n",
       "    }\n",
       "</style>\n",
       "<table border=\"1\" class=\"dataframe\">\n",
       "  <thead>\n",
       "    <tr style=\"text-align: right;\">\n",
       "      <th></th>\n",
       "      <th>timestamp</th>\n",
       "      <th>icao_address</th>\n",
       "      <th>latitude</th>\n",
       "      <th>longitude</th>\n",
       "      <th>collection_type</th>\n",
       "      <th>altitude_baro</th>\n",
       "      <th>speed</th>\n",
       "      <th>callsign</th>\n",
       "      <th>icao_actype</th>\n",
       "      <th>flight_number</th>\n",
       "      <th>tail_number</th>\n",
       "    </tr>\n",
       "  </thead>\n",
       "  <tbody>\n",
       "    <tr>\n",
       "      <th>0</th>\n",
       "      <td>2020-01-01</td>\n",
       "      <td>C00B9E</td>\n",
       "      <td>42.776688</td>\n",
       "      <td>-78.163043</td>\n",
       "      <td>terrestrial</td>\n",
       "      <td>23150.0</td>\n",
       "      <td>310.0</td>\n",
       "      <td>SKV7529</td>\n",
       "      <td>E75S</td>\n",
       "      <td>RS7529</td>\n",
       "      <td>C-FEKJ</td>\n",
       "    </tr>\n",
       "    <tr>\n",
       "      <th>1</th>\n",
       "      <td>2020-01-01</td>\n",
       "      <td>89620B</td>\n",
       "      <td>25.140583</td>\n",
       "      <td>55.182201</td>\n",
       "      <td>terrestrial</td>\n",
       "      <td>9175.0</td>\n",
       "      <td>310.0</td>\n",
       "      <td>UAE786</td>\n",
       "      <td>B77W</td>\n",
       "      <td>EK786</td>\n",
       "      <td>A6-EGJ</td>\n",
       "    </tr>\n",
       "    <tr>\n",
       "      <th>2</th>\n",
       "      <td>2020-01-01</td>\n",
       "      <td>7809AC</td>\n",
       "      <td>34.212636</td>\n",
       "      <td>133.192463</td>\n",
       "      <td>terrestrial</td>\n",
       "      <td>30000.0</td>\n",
       "      <td>350.0</td>\n",
       "      <td>CQH8506</td>\n",
       "      <td>A320</td>\n",
       "      <td>9C8506</td>\n",
       "      <td>B-6971</td>\n",
       "    </tr>\n",
       "    <tr>\n",
       "      <th>3</th>\n",
       "      <td>2020-01-01</td>\n",
       "      <td>AB1496</td>\n",
       "      <td>39.112701</td>\n",
       "      <td>-92.807365</td>\n",
       "      <td>terrestrial</td>\n",
       "      <td>34025.0</td>\n",
       "      <td>370.0</td>\n",
       "      <td>AAL2622</td>\n",
       "      <td>A319</td>\n",
       "      <td>AA2622</td>\n",
       "      <td>N813AW</td>\n",
       "    </tr>\n",
       "    <tr>\n",
       "      <th>4</th>\n",
       "      <td>2020-01-01</td>\n",
       "      <td>E49266</td>\n",
       "      <td>-21.986482</td>\n",
       "      <td>-45.475820</td>\n",
       "      <td>terrestrial</td>\n",
       "      <td>31250.0</td>\n",
       "      <td>490.0</td>\n",
       "      <td>GLO1546</td>\n",
       "      <td>B738</td>\n",
       "      <td>G31546</td>\n",
       "      <td>PR-GYD</td>\n",
       "    </tr>\n",
       "  </tbody>\n",
       "</table>\n",
       "</div>"
      ],
      "text/plain": [
       "   timestamp icao_address   latitude   longitude collection_type  \\\n",
       "0 2020-01-01       C00B9E  42.776688  -78.163043     terrestrial   \n",
       "1 2020-01-01       89620B  25.140583   55.182201     terrestrial   \n",
       "2 2020-01-01       7809AC  34.212636  133.192463     terrestrial   \n",
       "3 2020-01-01       AB1496  39.112701  -92.807365     terrestrial   \n",
       "4 2020-01-01       E49266 -21.986482  -45.475820     terrestrial   \n",
       "\n",
       "   altitude_baro  speed callsign icao_actype flight_number tail_number  \n",
       "0        23150.0  310.0  SKV7529        E75S        RS7529      C-FEKJ  \n",
       "1         9175.0  310.0   UAE786        B77W         EK786      A6-EGJ  \n",
       "2        30000.0  350.0  CQH8506        A320        9C8506      B-6971  \n",
       "3        34025.0  370.0  AAL2622        A319        AA2622      N813AW  \n",
       "4        31250.0  490.0  GLO1546        B738        G31546      PR-GYD  "
      ]
     },
     "execution_count": 2,
     "metadata": {},
     "output_type": "execute_result"
    }
   ],
   "source": [
    "adsb = pd.read_parquet(\"data/flight/global/20200101-raw.pq\").drop(columns=\"flight_uid\")\n",
    "adsb.head()"
   ]
  },
  {
   "cell_type": "markdown",
   "metadata": {},
   "source": [
    "## Clean\n",
    "\n",
    "This function removes:\n",
    "\n",
    "1. Remove messages without data in \"icao_address\", \"aircraft_type_icao\",\n",
    "   \"altitude_baro\", \"on_ground\", \"tail_number\"\n",
    "2. Ensure columns have the dtype as specified in `MESSAGE_DTYPES`\n",
    "3. Remove messages with tail number \"VARIOUS\"\n",
    "   and aircraft types \"N/A\", \"GNDT\", \"GRND\", \"ZZZZ\"\n",
    "5. Remove terrestrial messages without callsign.\n",
    "   Most of these messages are below 10,000 feet and from general aviation.\n",
    "7. Drop duplicates by \"icao_address\" and \"timestamp\""
   ]
  },
  {
   "cell_type": "code",
   "execution_count": 3,
   "metadata": {},
   "outputs": [
    {
     "name": "stdout",
     "output_type": "stream",
     "text": [
      "1810339 messages\n"
     ]
    }
   ],
   "source": [
    "# Copy original adsb dataset so it doesn't get mutated\n",
    "mdf = adsb.copy()\n",
    "print(len(mdf), \"messages\")"
   ]
  },
  {
   "cell_type": "code",
   "execution_count": 4,
   "metadata": {},
   "outputs": [],
   "source": [
    "# Rename a few fields\n",
    "mdf.rename(columns={\"icao_actype\": \"aircraft_type_icao\"}, inplace=True)"
   ]
  },
  {
   "cell_type": "code",
   "execution_count": 5,
   "metadata": {},
   "outputs": [],
   "source": [
    "# Remove messages without data in \"icao_address\", \"aircraft_type_icao\",\n",
    "# \"altitude_baro\", \"on_ground\", \"tail_number\"\n",
    "non_null_cols = [\n",
    "    \"timestamp\",\n",
    "    \"longitude\",\n",
    "    \"latitude\",\n",
    "    \"altitude_baro\",\n",
    "    \"icao_address\",\n",
    "    \"aircraft_type_icao\",\n",
    "    \"tail_number\",\n",
    "]\n",
    "filt = mdf[non_null_cols].isna().any(axis=1)\n",
    "mdf = mdf.loc[~filt]"
   ]
  },
  {
   "cell_type": "code",
   "execution_count": 6,
   "metadata": {},
   "outputs": [],
   "source": [
    "# Ensure columns have the correct dtype\n",
    "MESSAGE_DTYPES = {\n",
    "    \"icao_address\": str,\n",
    "    \"latitude\": float,\n",
    "    \"longitude\": float,\n",
    "    \"altitude_baro\": float,\n",
    "    \"speed\": float,\n",
    "    \"callsign\": str,\n",
    "    \"tail_number\": str,\n",
    "    \"collection_type\": str,\n",
    "    \"aircraft_type_icao\": str,\n",
    "}\n",
    "\n",
    "mdf = mdf.astype(MESSAGE_DTYPES)"
   ]
  },
  {
   "cell_type": "code",
   "execution_count": 7,
   "metadata": {},
   "outputs": [],
   "source": [
    "# convert timestamp into a timezone naive pd.Timestamp\n",
    "mdf[\"timestamp\"] = pd.to_datetime(mdf[\"timestamp\"]).dt.tz_localize(None)"
   ]
  },
  {
   "cell_type": "code",
   "execution_count": 8,
   "metadata": {},
   "outputs": [],
   "source": [
    "# Remove messages with tail number set to VARIOUS\n",
    "# or aircraft type set to \"N/A\", \"GNDT\", \"GRND\", \"ZZZZ\"\n",
    "filt = (mdf[\"tail_number\"] == \"VARIOUS\") & (\n",
    "    mdf[\"aircraft_type_icao\"].isin([\"N/A\", \"GNDT\", \"GRND\", \"ZZZZ\"])\n",
    ")\n",
    "mdf = mdf.loc[~filt]"
   ]
  },
  {
   "cell_type": "code",
   "execution_count": 9,
   "metadata": {},
   "outputs": [],
   "source": [
    "# Remove terrestrial waypoints without callsign\n",
    "# Most of these waypoints are below 10,000 feet and from general aviation\n",
    "filt = (mdf[\"callsign\"].isna()) & (mdf[\"collection_type\"] == \"terrestrial\")\n",
    "mdf = mdf[~filt]"
   ]
  },
  {
   "cell_type": "code",
   "execution_count": 10,
   "metadata": {},
   "outputs": [],
   "source": [
    "# Fill missing callsigns for satellite records\n",
    "callsigns_missing = (mdf[\"collection_type\"] == \"satellite\") & (mdf[\"callsign\"].isna())\n",
    "mdf.loc[callsigns_missing, \"callsign\"] = None  # reset values to be None\n",
    "for icao_address, gp in mdf.loc[\n",
    "    mdf[\"icao_address\"].isin(mdf.loc[callsigns_missing, \"icao_address\"].unique()),\n",
    "    [\"icao_address\", \"callsign\", \"collection_type\"],\n",
    "].groupby(\"icao_address\", sort=False):\n",
    "    mdf.loc[gp.index, \"callsign\"] = gp[\"callsign\"].fillna(method=\"ffill\").fillna(method=\"bfill\")"
   ]
  },
  {
   "cell_type": "code",
   "execution_count": 11,
   "metadata": {},
   "outputs": [],
   "source": [
    "# Drop duplicates by icao_address and timestamp\n",
    "mdf.drop_duplicates(subset=[\"icao_address\", \"timestamp\"], inplace=True)"
   ]
  },
  {
   "cell_type": "code",
   "execution_count": 12,
   "metadata": {},
   "outputs": [
    {
     "name": "stdout",
     "output_type": "stream",
     "text": [
      "1810261 messages\n"
     ]
    }
   ],
   "source": [
    "# Resest index after filtering\n",
    "mdf.reset_index(drop=True, inplace=True)\n",
    "print(len(mdf), \"messages\")"
   ]
  },
  {
   "cell_type": "markdown",
   "metadata": {},
   "source": [
    "## Identify Flights\n",
    "\n",
    "Simple algorithm:\n",
    "\n",
    "1. Group by \"icao_address\", \"tail_number\", \"aircraft_type_icao\", \"callsign\"\n"
   ]
  },
  {
   "cell_type": "code",
   "execution_count": 13,
   "metadata": {},
   "outputs": [],
   "source": [
    "def generate_flight_id(time: pd.Timestamp, callsign: str) -> str:\n",
    "    \"\"\"Generate a unique flight id for instance of flight.\n",
    "\n",
    "    Parameters\n",
    "    ----------\n",
    "    time : pd.Timestamp\n",
    "        First waypoint time associated with flight.\n",
    "    callsign : str\n",
    "        Callsign of the flight.\n",
    "        Other flight identifiers could be used if the callsign\n",
    "        is not defined.\n",
    "\n",
    "    Returns\n",
    "    -------\n",
    "    str\n",
    "        Flight id in the form \"{%Y%m%d-%H%M}-{callsign}\"\n",
    "    \"\"\"\n",
    "    t_string = time.strftime(\"%Y%m%d-%H%M\")\n",
    "    return f\"{t_string}-{callsign}\""
   ]
  },
  {
   "cell_type": "code",
   "execution_count": 14,
   "metadata": {},
   "outputs": [],
   "source": [
    "# Set default flight_id\n",
    "flight_id = pd.Series(\n",
    "    data=None,\n",
    "    dtype=object,\n",
    "    index=mdf.index,\n",
    ")\n",
    "\n",
    "# Group by \"icao_address\", \"tail_number\", \"aircraft_type_icao\", \"callsign\"\n",
    "for idx, gp in mdf.groupby([\"icao_address\", \"tail_number\", \"aircraft_type_icao\", \"callsign\"], sort=False):\n",
    "\n",
    "    # minimum # of messages\n",
    "    if len(gp) < 10:\n",
    "        continue\n",
    "            \n",
    "    # save flight ids\n",
    "    flight_id.loc[gp.index] = generate_flight_id(gp[\"timestamp\"].iloc[0], gp[\"callsign\"].iloc[0])\n",
    "    \n",
    "# set series back on dataframe\n",
    "mdf[\"flight_id\"] = flight_id"
   ]
  },
  {
   "cell_type": "code",
   "execution_count": 15,
   "metadata": {},
   "outputs": [
    {
     "data": {
      "text/html": [
       "<div>\n",
       "<style scoped>\n",
       "    .dataframe tbody tr th:only-of-type {\n",
       "        vertical-align: middle;\n",
       "    }\n",
       "\n",
       "    .dataframe tbody tr th {\n",
       "        vertical-align: top;\n",
       "    }\n",
       "\n",
       "    .dataframe thead th {\n",
       "        text-align: right;\n",
       "    }\n",
       "</style>\n",
       "<table border=\"1\" class=\"dataframe\">\n",
       "  <thead>\n",
       "    <tr style=\"text-align: right;\">\n",
       "      <th></th>\n",
       "      <th>timestamp</th>\n",
       "    </tr>\n",
       "    <tr>\n",
       "      <th>flight_id</th>\n",
       "      <th></th>\n",
       "    </tr>\n",
       "  </thead>\n",
       "  <tbody>\n",
       "    <tr>\n",
       "      <th>20200101-0000-AAL100</th>\n",
       "      <td>34</td>\n",
       "    </tr>\n",
       "    <tr>\n",
       "      <th>20200101-0000-AAL1011</th>\n",
       "      <td>21</td>\n",
       "    </tr>\n",
       "    <tr>\n",
       "      <th>20200101-0000-AAL1018</th>\n",
       "      <td>15</td>\n",
       "    </tr>\n",
       "    <tr>\n",
       "      <th>20200101-0000-AAL1045</th>\n",
       "      <td>16</td>\n",
       "    </tr>\n",
       "    <tr>\n",
       "      <th>20200101-0000-AAL107</th>\n",
       "      <td>10</td>\n",
       "    </tr>\n",
       "  </tbody>\n",
       "</table>\n",
       "</div>"
      ],
      "text/plain": [
       "                       timestamp\n",
       "flight_id                       \n",
       "20200101-0000-AAL100          34\n",
       "20200101-0000-AAL1011         21\n",
       "20200101-0000-AAL1018         15\n",
       "20200101-0000-AAL1045         16\n",
       "20200101-0000-AAL107          10"
      ]
     },
     "execution_count": 15,
     "metadata": {},
     "output_type": "execute_result"
    }
   ],
   "source": [
    "# show how many messates per flight\n",
    "count = mdf[[\"timestamp\", \"flight_id\"]].groupby(\"flight_id\").count()\n",
    "count.head()"
   ]
  },
  {
   "cell_type": "markdown",
   "metadata": {},
   "source": [
    "## Create `Flight`"
   ]
  },
  {
   "cell_type": "code",
   "execution_count": 16,
   "metadata": {},
   "outputs": [],
   "source": [
    "from pycontrails import Flight\n",
    "from pycontrails.physics import units"
   ]
  },
  {
   "cell_type": "code",
   "execution_count": 17,
   "metadata": {},
   "outputs": [
    {
     "data": {
      "text/html": [
       "<div>\n",
       "<style scoped>\n",
       "    .dataframe tbody tr th:only-of-type {\n",
       "        vertical-align: middle;\n",
       "    }\n",
       "\n",
       "    .dataframe tbody tr th {\n",
       "        vertical-align: top;\n",
       "    }\n",
       "\n",
       "    .dataframe thead th {\n",
       "        text-align: right;\n",
       "    }\n",
       "</style>\n",
       "<table border=\"1\" class=\"dataframe\">\n",
       "  <thead>\n",
       "    <tr style=\"text-align: right;\">\n",
       "      <th></th>\n",
       "      <th>flight_id</th>\n",
       "      <th>timestamp</th>\n",
       "      <th>icao_address</th>\n",
       "      <th>latitude</th>\n",
       "      <th>longitude</th>\n",
       "      <th>collection_type</th>\n",
       "      <th>altitude_baro</th>\n",
       "      <th>speed</th>\n",
       "      <th>callsign</th>\n",
       "      <th>aircraft_type_icao</th>\n",
       "      <th>flight_number</th>\n",
       "      <th>tail_number</th>\n",
       "    </tr>\n",
       "  </thead>\n",
       "  <tbody>\n",
       "    <tr>\n",
       "      <th>0</th>\n",
       "      <td>20200101-0000-AAL100</td>\n",
       "      <td>2020-01-01 00:00:00</td>\n",
       "      <td>A9D286</td>\n",
       "      <td>40.557380</td>\n",
       "      <td>-73.826065</td>\n",
       "      <td>terrestrial</td>\n",
       "      <td>3175.0</td>\n",
       "      <td>240.0</td>\n",
       "      <td>AAL100</td>\n",
       "      <td>B77W</td>\n",
       "      <td>AA100</td>\n",
       "      <td>N732AN</td>\n",
       "    </tr>\n",
       "    <tr>\n",
       "      <th>1</th>\n",
       "      <td>20200101-0000-AAL100</td>\n",
       "      <td>2020-01-01 00:05:05</td>\n",
       "      <td>A9D286</td>\n",
       "      <td>40.835678</td>\n",
       "      <td>-73.561951</td>\n",
       "      <td>terrestrial</td>\n",
       "      <td>14700.0</td>\n",
       "      <td>400.0</td>\n",
       "      <td>AAL100</td>\n",
       "      <td>B77W</td>\n",
       "      <td>AA100</td>\n",
       "      <td>N732AN</td>\n",
       "    </tr>\n",
       "    <tr>\n",
       "      <th>2</th>\n",
       "      <td>20200101-0000-AAL100</td>\n",
       "      <td>2020-01-01 00:10:02</td>\n",
       "      <td>A9D286</td>\n",
       "      <td>41.424545</td>\n",
       "      <td>-73.415513</td>\n",
       "      <td>terrestrial</td>\n",
       "      <td>27025.0</td>\n",
       "      <td>450.0</td>\n",
       "      <td>AAL100</td>\n",
       "      <td>B77W</td>\n",
       "      <td>AA100</td>\n",
       "      <td>N732AN</td>\n",
       "    </tr>\n",
       "    <tr>\n",
       "      <th>3</th>\n",
       "      <td>20200101-0000-AAL100</td>\n",
       "      <td>2020-01-01 00:15:05</td>\n",
       "      <td>A9D286</td>\n",
       "      <td>42.115677</td>\n",
       "      <td>-73.321318</td>\n",
       "      <td>terrestrial</td>\n",
       "      <td>34325.0</td>\n",
       "      <td>520.0</td>\n",
       "      <td>AAL100</td>\n",
       "      <td>B77W</td>\n",
       "      <td>AA100</td>\n",
       "      <td>N732AN</td>\n",
       "    </tr>\n",
       "    <tr>\n",
       "      <th>4</th>\n",
       "      <td>20200101-0000-AAL100</td>\n",
       "      <td>2020-01-01 00:20:05</td>\n",
       "      <td>A9D286</td>\n",
       "      <td>42.615548</td>\n",
       "      <td>-72.562078</td>\n",
       "      <td>terrestrial</td>\n",
       "      <td>35000.0</td>\n",
       "      <td>550.0</td>\n",
       "      <td>AAL100</td>\n",
       "      <td>B77W</td>\n",
       "      <td>AA100</td>\n",
       "      <td>N732AN</td>\n",
       "    </tr>\n",
       "  </tbody>\n",
       "</table>\n",
       "</div>"
      ],
      "text/plain": [
       "              flight_id           timestamp icao_address   latitude  \\\n",
       "0  20200101-0000-AAL100 2020-01-01 00:00:00       A9D286  40.557380   \n",
       "1  20200101-0000-AAL100 2020-01-01 00:05:05       A9D286  40.835678   \n",
       "2  20200101-0000-AAL100 2020-01-01 00:10:02       A9D286  41.424545   \n",
       "3  20200101-0000-AAL100 2020-01-01 00:15:05       A9D286  42.115677   \n",
       "4  20200101-0000-AAL100 2020-01-01 00:20:05       A9D286  42.615548   \n",
       "\n",
       "   longitude collection_type  altitude_baro  speed callsign  \\\n",
       "0 -73.826065     terrestrial         3175.0  240.0   AAL100   \n",
       "1 -73.561951     terrestrial        14700.0  400.0   AAL100   \n",
       "2 -73.415513     terrestrial        27025.0  450.0   AAL100   \n",
       "3 -73.321318     terrestrial        34325.0  520.0   AAL100   \n",
       "4 -72.562078     terrestrial        35000.0  550.0   AAL100   \n",
       "\n",
       "  aircraft_type_icao flight_number tail_number  \n",
       "0               B77W         AA100      N732AN  \n",
       "1               B77W         AA100      N732AN  \n",
       "2               B77W         AA100      N732AN  \n",
       "3               B77W         AA100      N732AN  \n",
       "4               B77W         AA100      N732AN  "
      ]
     },
     "execution_count": 17,
     "metadata": {},
     "output_type": "execute_result"
    }
   ],
   "source": [
    "# select flight\n",
    "mdf.set_index(\"flight_id\", inplace=True)\n",
    "fdf = mdf.loc[\"20200101-0000-AAL100\"].reset_index()\n",
    "fdf.head()"
   ]
  },
  {
   "cell_type": "code",
   "execution_count": 18,
   "metadata": {},
   "outputs": [],
   "source": [
    "# add altitude column\n",
    "fdf[\"altitude\"] = units.ft_to_m(fdf[\"altitude_baro\"].to_numpy())\n",
    "\n",
    "# rename timetsamp to \"time\"\n",
    "fdf.rename(columns={\"timestamp\": \"time\"}, inplace=True)\n",
    "flight = Flight(data=fdf)"
   ]
  },
  {
   "cell_type": "code",
   "execution_count": 19,
   "metadata": {},
   "outputs": [
    {
     "data": {
      "image/png": "[encoded data removed]",
      "text/plain": [
       "<Figure size 640x480 with 1 Axes>"
      ]
     },
     "metadata": {},
     "output_type": "display_data"
    }
   ],
   "source": [
    "flight.plot();"
   ]
  },
  {
   "cell_type": "markdown",
   "metadata": {},
   "source": [
    "---"
   ]
  },
  {
   "cell_type": "markdown",
   "metadata": {},
   "source": [
    "## (In development) Seperate by cruise phase\n",
    "\n",
    "> Work in progress in [#28](https://github.com/contrailcirrus/pycontrails/pull/38)\n",
    "\n",
    "Flights with multiple cruise phases are identified by evaluating the\n",
    "messages between the start and end of the cruise phase.\n",
    "For these messages that should be at cruise, multiple cruise phases are identified when:\n",
    "\n",
    "1. Altitudes fall below the minimum cruise altitude.\n",
    "   This value is set to `MIN_CRUISE_ALTITUDE`.\n",
    "2. There is a time difference > 15 minutes between messages.\n",
    "\n",
    "If multiple flights are identified,\n",
    "the cut-off point is specified at messages with the largest time difference.\n",
    "\n",
    "Flight \"diversion\" is defined when the aircraft descends below 10,000 feet\n",
    "and climbs back to cruise altitude to travel to the alternative airport.\n",
    "A diversion is identified when all five conditions below are satisfied:\n",
    "\n",
    "1. Altitude in any messages between\n",
    "   the start and end of cruise is < `MAX_AIRPORT_ELEVATION` ft\n",
    "2. Time difference between messages that should be\n",
    "   at cruise must be < 15 minutes (continuous telemetry)\n",
    "3. Segment length between messages that should be\n",
    "   at cruise must be > 500 m (no stationary messages),\n",
    "4. Time elapsed between message with the lowest altitude\n",
    "   (during cruise) and final message should be < 2 h,"
   ]
  },
  {
   "cell_type": "code",
   "execution_count": null,
   "metadata": {},
   "outputs": [],
   "source": [
    "from pycontrails.core import flight\n",
    "from pycontrails.physics import geo, units"
   ]
  },
  {
   "cell_type": "code",
   "execution_count": 76,
   "metadata": {},
   "outputs": [],
   "source": [
    "def separate_by_cruise_phase(messages: pd.DataFrame) -> pd.Series:\n",
    "\n",
    "    # Set default flight id\n",
    "    flight_id = pd.Series(\n",
    "        data=generate_flight_id(messages[\"timestamp\"].iloc[0], messages[\"callsign\"].iloc[0]),\n",
    "        dtype=object,\n",
    "        index=messages.index,\n",
    "    )\n",
    "\n",
    "    # Set min cruise altitude\n",
    "    min_cruise_altitude_ft = 20_000\n",
    "\n",
    "    # Calculate flight phase\n",
    "    altitude_ft = messages[\"altitude_baro\"].to_numpy()\n",
    "    segment_duration = flight.segment_duration(messages[\"timestamp\"].to_numpy())\n",
    "    segment_rocd = flight.segment_rocd(segment_duration, altitude_ft)\n",
    "    segment_phase = flight.segment_phase(\n",
    "        segment_rocd,\n",
    "        altitude_ft,\n",
    "        threshold_rocd=250,\n",
    "        min_cruise_altitude_ft=min_cruise_altitude_ft,\n",
    "    )\n",
    "\n",
    "    # get cruise phase\n",
    "    cruise = segment_phase == flight.FLIGHT_PHASE[\"cruise\"]\n",
    "\n",
    "    # fill between the first and last cruise phase indicator\n",
    "    # this represents the flight phase after takeoff climb and before descent to landing\n",
    "    within_cruise = np.bitwise_xor.accumulate(cruise) | cruise\n",
    "\n",
    "    # There should not be any waypoints with low altitudes between\n",
    "    # the start and end of `within_cruise`\n",
    "    is_low_altitude = altitude_ft < min_cruise_altitude_ft\n",
    "    is_long_interval = segment_duration > (15 * 60)  # 15 minutes\n",
    "    anomalous_phase = within_cruise & is_low_altitude & is_long_interval\n",
    "    multiple_cruise_phase = np.any(anomalous_phase)\n",
    "\n",
    "    # if there is only one cruise phase, just return one label\n",
    "    if not multiple_cruise_phase:\n",
    "        return flight_id\n",
    "\n",
    "    # Check for presence of a diverted flight\n",
    "    potentially_diverted = within_cruise & is_low_altitude\n",
    "    if np.any(potentially_diverted):\n",
    "        # Calculate segment length\n",
    "        segment_length = geo.segment_length(\n",
    "            messages[\"longitude\"].to_numpy(),\n",
    "            messages[\"latitude\"].to_numpy(),\n",
    "            units.ft_to_m(altitude_ft),\n",
    "        )\n",
    "\n",
    "        # get the index of the minimum altitude when potentially diverted\n",
    "        altitude_min_diverted = np.min(altitude_ft[potentially_diverted])\n",
    "        i_lowest_altitude = (\n",
    "            np.argwhere(within_cruise & is_low_altitude & (altitude_ft == altitude_min_diverted))[\n",
    "                0\n",
    "            ][0]\n",
    "            + 1\n",
    "        )\n",
    "        \n",
    "        # Check for flight diversion\n",
    "        condition_1 = np.any(altitude_ft[within_cruise] < flight.MAX_AIRPORT_ELEVATION)\n",
    "        condition_2 = np.all(segment_duration[within_cruise] < (15 * 60))\n",
    "        condition_3 = np.all(segment_length[within_cruise] > 500)\n",
    "        condition_4 = np.nansum(segment_duration[i_lowest_altitude:]) < (2 * 60 * 60)\n",
    "\n",
    "        flight_diversion = condition_1 & condition_2 & condition_3 & condition_4\n",
    "\n",
    "        # if there is a potential flight diversion, just return a single flight index\n",
    "        if flight_diversion:\n",
    "            return flight_id\n",
    "\n",
    "    # If there are multiple cruise phases, get cut-off point\n",
    "    i_cutoff = int(np.argmax(segment_duration[anomalous_phase]) + 1)\n",
    "\n",
    "    # assign a new id after cutoff\n",
    "    flight_id.iloc[i_cutoff:] = generate_flight_id(\n",
    "        messages[\"timestamp\"].iloc[i_cutoff], messages[\"callsign\"].iloc[i_cutoff]\n",
    "    )"
   ]
  },
  {
   "cell_type": "code",
   "execution_count": null,
   "metadata": {},
   "outputs": [],
   "source": [
    "def clean_flight_altitude(\n",
    "    messages: pd.DataFrame,\n",
    "    *,\n",
    "    noise_threshold_ft: float = 25,\n",
    "    threshold_altitude_ft: float | None = None,\n",
    ") -> pd.DataFrame:\n",
    "    \"\"\"\n",
    "    Clean erroneous and noisy altitude on a single flight.\n",
    "\n",
    "    Parameters\n",
    "    ----------\n",
    "    messages: pd.DataFrame\n",
    "        ADS-B messages from a single flight trajectory.\n",
    "    noise_threshold_ft: float\n",
    "        Altitude difference threshold to identify noise, [:math:`ft`]\n",
    "        Barometric altitude from ADS-B telemetry is reported at increments of 25 ft.\n",
    "    threshold_altitude_ft: float\n",
    "        Altitude will be checked and corrected above this threshold, [:math:`ft`]\n",
    "        Currently set to :attr:`flight.MAX_AIRPORT_ELEVATION` ft.\n",
    "\n",
    "    Returns\n",
    "    -------\n",
    "    pd.DataFrame\n",
    "        ADS-B messages with filtered altitude.\n",
    "\n",
    "    Notes\n",
    "    -----\n",
    "    #. If pycontrails.ext.bada installed,\n",
    "       remove erroneous altitude, i.e., altitude above operating limit of aircraft type\n",
    "    #. Remove noise in cruise altitude where flights oscillate\n",
    "       between 25 ft due to noise in ADS-B telemetry\n",
    "\n",
    "    See Also\n",
    "    --------\n",
    "    :func:`flight.filter_altitude`\n",
    "    \"\"\"\n",
    "    threshold_altitude_ft = threshold_altitude_ft or flight.MAX_AIRPORT_ELEVATION\n",
    "    mdf = messages.copy()\n",
    "\n",
    "    # Remove noise in cruise altitude by rounding up/down to the nearest flight level.\n",
    "    altitude_ft = mdf[\"altitude_baro\"].to_numpy()\n",
    "    d_alt_ft = np.diff(altitude_ft, prepend=np.nan)\n",
    "    is_noise = (np.abs(d_alt_ft) <= noise_threshold_ft) & (altitude_ft > threshold_altitude_ft)\n",
    "    mdf.loc[is_noise, \"altitude_baro\"] = np.round(altitude_ft[is_noise] / 1000) * 1000\n",
    "\n",
    "    return mdf"
   ]
  }
 ],
 "metadata": {
  "colab": {
   "provenance": []
  },
  "kernelspec": {
   "display_name": "Python 3 (ipykernel)",
   "language": "python",
   "name": "python3"
  },
  "language_info": {
   "codemirror_mode": {
    "name": "ipython",
    "version": 3
   },
   "file_extension": ".py",
   "mimetype": "text/x-python",
   "name": "python",
   "nbconvert_exporter": "python",
   "pygments_lexer": "ipython3",
   "version": "3.10.8"
  }
 },
 "nbformat": 4,
 "nbformat_minor": 4
}
