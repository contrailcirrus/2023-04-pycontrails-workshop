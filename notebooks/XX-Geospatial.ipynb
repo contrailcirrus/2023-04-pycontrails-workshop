{
 "cells": [
  {
   "cell_type": "markdown",
   "id": "9f011664-72e9-48fb-8994-c1d7c2ef1a9d",
   "metadata": {},
   "source": [
    "# Geospatial\n",
    "\n",
    "- Authors: Tom Dean\n",
    "- Date: 2023-04-14\n",
    "- `pycontrails`: v0.39.6\n",
    "\n",
    "\n",
    "### References\n",
    "\n",
    "[![Open In Colab](https://colab.research.google.com/assets/colab-badge.svg)](https://colab.research.google.com/github/contrailcirrus/2023-04-pycontrails-workshop/blob/main/notebooks/XX-Geospatial.ipynb)"
   ]
  },
  {
   "cell_type": "code",
   "execution_count": null,
   "id": "447c1f23-c406-4f7e-bada-737e90d38090",
   "metadata": {},
   "outputs": [],
   "source": [
    "!pip install pycontrails"
   ]
  }
 ],
 "metadata": {
  "kernelspec": {
   "display_name": "Python 3 (ipykernel)",
   "language": "python",
   "name": "python3"
  },
  "language_info": {
   "codemirror_mode": {
    "name": "ipython",
    "version": 3
   },
   "file_extension": ".py",
   "mimetype": "text/x-python",
   "name": "python",
   "nbconvert_exporter": "python",
   "pygments_lexer": "ipython3",
   "version": "3.10.8"
  }
 },
 "nbformat": 4,
 "nbformat_minor": 5
}
