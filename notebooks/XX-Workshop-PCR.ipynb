{
 "cells": [
  {
   "cell_type": "markdown",
   "id": "0154f871-5fca-4833-94f3-6ef1ec76b885",
   "metadata": {},
   "source": [
    "# Hands on Workshop: Comparing contrail outputs to satellite imagery\n",
    "\n",
    "- Authors: Marc Shapiro, Zeb Engberg\n",
    "- Date: 2023-04-14\n",
    "- `pycontrails`: v0.39.6\n",
    "\n",
    "End-to-end analysis using `pycontrails` and sample data.\n",
    "\n",
    "[![Open In Colab](https://colab.research.google.com/assets/colab-badge.svg)](https://colab.research.google.com/github/contrailcirrus/2023-04-pycontrails-workshop/blob/main/notebooks/XX-Workshop-Contrails.ipynb)"
   ]
  },
  {
   "cell_type": "markdown",
   "id": "3db09dd9-4a03-4df5-bcbf-4c36ac23ceca",
   "metadata": {},
   "source": [
    "## Goals\n",
    "\n",
    "### Load data\n",
    "\n",
    "- Load meteorology data from ECMWF using Copernicus\n",
    "- Load sample ADS-B trajectories\n",
    "\n",
    "### Calculate aircraft performance\n",
    "\n",
    "- Clean up ADS-B trajectories\n",
    "- Calculate aircraft performance using OpenAP\n",
    "- Calculate emissions using `pycontrails`\n",
    "\n",
    "### Model contrail outputs with `CoCiP`\n",
    "\n",
    "- Run CoCiP model on trajectories varying aircraft performance inputs\n",
    "\n",
    "### Analyze outputs\n",
    "\n",
    "- Plot modelled contrail outputs with satellite imagert"
   ]
  },
  {
   "cell_type": "code",
   "execution_count": null,
   "id": "b39b2e4c-7761-4b92-8138-8ca7e4a68fd2",
   "metadata": {},
   "outputs": [],
   "source": []
  }
 ],
 "metadata": {
  "kernelspec": {
   "display_name": "Python 3 (ipykernel)",
   "language": "python",
   "name": "python3"
  },
  "language_info": {
   "codemirror_mode": {
    "name": "ipython",
    "version": 3
   },
   "file_extension": ".py",
   "mimetype": "text/x-python",
   "name": "python",
   "nbconvert_exporter": "python",
   "pygments_lexer": "ipython3",
   "version": "3.10.8"
  }
 },
 "nbformat": 4,
 "nbformat_minor": 5
}
